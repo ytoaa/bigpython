{
 "cells": [
  {
   "cell_type": "markdown",
   "metadata": {
    "id": "F73REO5AQnxJ"
   },
   "source": [
    "# 13장 데이터 분석 예제\n",
    "* https://github.com/wesm/pydata-book"
   ]
  },
  {
   "cell_type": "markdown",
   "metadata": {
    "id": "KNGyqEyUzTH9"
   },
   "source": [
    "## [13.2 무비렌즈의 영화 평점 데이터]\n",
    "* 1990년대 말부터 2000년대 movieLens 사용자 6000여 명에게서 수집한 4000여 편의 영화 평점 1M 데이터 제공\n",
    "  * 사용자 정보: 나이, 우편번호, 성별, 직업\n",
    "  * 영화 평점 정보 : 장르, 개봉 연도\n",
    "  * 영화 정보 : 장르, 제목\n",
    "- Gender :\n",
    "  * \"M\" : 남성\n",
    "  * \"F\" : 여성\n",
    "- Age :\n",
    "\t*  1:  \"Under 18\"\n",
    "\t* 18:  \"18-24\"\n",
    "\t* 25:  \"25-34\"\n",
    "\t* 35:  \"35-44\"\n",
    "\t* 45:  \"45-49\"\n",
    "\t* 50:  \"50-55\"\n",
    "\t* 56:  \"56+\"\n",
    "- Occupation :\n",
    "\t*  0:  \"other\" or not specified\n",
    "\t*  1:  \"academic/educator\"\n",
    "\t*  2:  \"artist\"\n",
    "\t*  3:  \"clerical/admin\"\n",
    "\t*  4:  \"college/grad student\"\n",
    "\t*  5:  \"customer service\"\n",
    "\t*  6:  \"doctor/health care\"\n",
    "\t*  7:  \"executive/managerial\"\n",
    "\t*  8:  \"farmer\"\n",
    "\t*  9:  \"homemaker\"\n",
    "\t* 10:  \"K-12 student\"\n",
    "\t* 11:  \"lawyer\"\n",
    "\t* 12:  \"programmer\"\n",
    "\t* 13:  \"retired\"\n",
    "\t* 14:  \"sales/marketing\"\n",
    "\t* 15:  \"scientist\"\n",
    "\t* 16:  \"self-employed\"\n",
    "\t* 17:  \"technician/engineer\"\n",
    "\t* 18:  \"tradesman/craftsman\"\n",
    "\t* 19:  \"unemployed\"\n",
    "\t* 20:  \"writer\"\n",
    "- Genres :\n",
    "\t* Action\n",
    "\t* Adventure\n",
    "\t* Animation\n",
    "\t* Children's\n",
    "\t* Comedy\n",
    "\t* Crime\n",
    "\t* Documentary\n",
    "\t* Drama\n",
    "\t* Fantasy\n",
    "\t* Film-Noir\n",
    "\t* Horror\n",
    "\t* Musical\n",
    "\t* Mystery\n",
    "\t* Romance\n",
    "\t* Sci-Fi\n",
    "\t* Thriller\n",
    "\t* War\n",
    "\t* Western\n"
   ]
  },
  {
   "cell_type": "code",
   "execution_count": null,
   "metadata": {
    "executionInfo": {
     "elapsed": 765,
     "status": "ok",
     "timestamp": 1717454290464,
     "user": {
      "displayName": "김유희",
      "userId": "00390714496880607784"
     },
     "user_tz": -540
    },
    "id": "lUHL9Hf2PT-k"
   },
   "outputs": [],
   "source": [
    "# 1. 필요한 라이브러리 임포트\n",
    "import pandas as pd"
   ]
  },
  {
   "cell_type": "code",
   "execution_count": null,
   "metadata": {
    "executionInfo": {
     "elapsed": 7187,
     "status": "ok",
     "timestamp": 1717455124758,
     "user": {
      "displayName": "김유희",
      "userId": "00390714496880607784"
     },
     "user_tz": -540
    },
    "id": "0aTXPr2asBYX"
   },
   "outputs": [],
   "source": [
    "# 데이터셋 로드\n",
    "unames = [\"user_id\", \"gender\", \"age\", \"occupation\", \"zip\"]\n",
    "users = pd.read_table(\"users.dat\", sep=\"::\",\n",
    "                      header=None, names=unames, engine=\"python\")\n",
    "\n",
    "rnames = [\"user_id\", \"movie_id\", \"rating\", \"timestamp\"]\n",
    "ratings = pd.read_table(\"ratings.dat\", sep=\"::\",\n",
    "                        header=None, names=rnames, engine=\"python\")\n",
    "\n",
    "mnames = [\"movie_id\", \"title\", \"genres\"]\n",
    "movies = pd.read_table(\"movies.dat\", sep=\"::\",\n",
    "                       header=None, names=mnames, engine=\"python\")"
   ]
  },
  {
   "cell_type": "code",
   "execution_count": null,
   "metadata": {
    "colab": {
     "base_uri": "https://localhost:8080/"
    },
    "executionInfo": {
     "elapsed": 316,
     "status": "ok",
     "timestamp": 1717455127599,
     "user": {
      "displayName": "김유희",
      "userId": "00390714496880607784"
     },
     "user_tz": -540
    },
    "id": "13gZXwL8sBYY",
    "outputId": "b4d52c8a-0174-4a30-bcc4-68b9186a630a"
   },
   "outputs": [],
   "source": [
    "# 데이터셋 탐색\n",
    "print(users.head())\n",
    "print(ratings.head())\n",
    "print(movies.head())"
   ]
  },
  {
   "cell_type": "markdown",
   "metadata": {
    "id": "pahvhG7Iynkw"
   },
   "source": [
    "## [데이터 분석 문제]"
   ]
  },
  {
   "cell_type": "markdown",
   "metadata": {
    "id": "y5bYMCfBy5uS"
   },
   "source": [
    "### # 성별에 따른 250건 이상의 평균 평점 정보가 있는 영화 추출하기"
   ]
  },
  {
   "cell_type": "code",
   "execution_count": null,
   "metadata": {
    "colab": {
     "base_uri": "https://localhost:8080/",
     "height": 718
    },
    "executionInfo": {
     "elapsed": 631,
     "status": "ok",
     "timestamp": 1717455131665,
     "user": {
      "displayName": "김유희",
      "userId": "00390714496880607784"
     },
     "user_tz": -540
    },
    "id": "Bm5QBmlasBYY",
    "outputId": "47fcd6a7-3e3b-4ca7-d37b-d4f337bf5e64"
   },
   "outputs": [],
   "source": [
    "# (1) ratings 테이블과 users 테이블을 병합하기 -> 그 결과를 movies 테이블과 병합하기 : 1000209 rows × 10 columns\n",
    "data = pd.merge(pd.merge(ratings, users), movies)\n",
    "data"
   ]
  },
  {
   "cell_type": "markdown",
   "metadata": {
    "id": "i_WY1_qWhS2I"
   },
   "source": [
    "## pandas.pivot_table()\n",
    "* 주어진 데이터프레임을 특정 열을 기준으로 그룹화하기\n",
    "* 다양한 집계 함수를 사용하여 요약 통계를 계산\n",
    "* 주요 파라미터\n",
    "  * data : 피벗 테이블을 생성할 데이터프레임\n",
    "  * values : 집계할 데이터 열\n",
    "  * index: 피벗 테이블의 행으로 사용할 열\n",
    "  * columns: 피벗 테이블의 열로 사용할 열\n",
    "  * aggfunc: 집계함수 목록\n",
    "  * fill_value: 결측값을 대체할 값"
   ]
  },
  {
   "cell_type": "code",
   "execution_count": null,
   "metadata": {
    "colab": {
     "base_uri": "https://localhost:8080/",
     "height": 237
    },
    "executionInfo": {
     "elapsed": 346,
     "status": "ok",
     "timestamp": 1717455137149,
     "user": {
      "displayName": "김유희",
      "userId": "00390714496880607784"
     },
     "user_tz": -540
    },
    "id": "KLb-uQTZsBYY",
    "outputId": "ba3271cf-452b-4ef5-aade-be4b057bde3c"
   },
   "outputs": [],
   "source": [
    "# (2) 성별에 따른 각 영화의 평균 평점을 집계하기\n",
    "mean_ratings = pd.pivot_table(data = data, values = \"rating\", index=\"title\",\n",
    "                                columns=\"gender\", aggfunc=\"mean\")\n",
    "mean_ratings.head()"
   ]
  },
  {
   "cell_type": "code",
   "execution_count": null,
   "metadata": {
    "colab": {
     "base_uri": "https://localhost:8080/"
    },
    "executionInfo": {
     "elapsed": 302,
     "status": "ok",
     "timestamp": 1717455140697,
     "user": {
      "displayName": "김유희",
      "userId": "00390714496880607784"
     },
     "user_tz": -540
    },
    "id": "a5LjInYysBYY",
    "outputId": "5863c2df-66e8-4b36-f25d-80a41560e66a"
   },
   "outputs": [],
   "source": [
    "# (3) 영화 제목별 건수 집계하기\n",
    "ratings_by_title = data.groupby(\"title\").size()\n",
    "ratings_by_title.head()"
   ]
  },
  {
   "cell_type": "code",
   "execution_count": null,
   "metadata": {
    "colab": {
     "base_uri": "https://localhost:8080/"
    },
    "executionInfo": {
     "elapsed": 318,
     "status": "ok",
     "timestamp": 1717455150665,
     "user": {
      "displayName": "김유희",
      "userId": "00390714496880607784"
     },
     "user_tz": -540
    },
    "id": "gQFccSNIx5rS",
    "outputId": "303f13a0-1ad2-4a88-d2a1-86cb52b9717a"
   },
   "outputs": [],
   "source": [
    "# (4) 250건 이상의 평점 정보가 있는 영화 제목 추출\n",
    "active_titles = ratings_by_title.index[ratings_by_title >= 250]\n",
    "active_titles"
   ]
  },
  {
   "cell_type": "code",
   "execution_count": null,
   "metadata": {
    "colab": {
     "base_uri": "https://localhost:8080/",
     "height": 455
    },
    "executionInfo": {
     "elapsed": 548,
     "status": "ok",
     "timestamp": 1717455158894,
     "user": {
      "displayName": "김유희",
      "userId": "00390714496880607784"
     },
     "user_tz": -540
    },
    "id": "rppS_T0GsBYY",
    "outputId": "15009937-aa17-4aff-be12-0e1bde905dd8"
   },
   "outputs": [],
   "source": [
    "# (5) 성별에 따른 250건 이상의 평점 정보가 있는 영화에 대한 색인 추출하기\n",
    "mean_ratings = mean_ratings.loc[active_titles]\n",
    "mean_ratings"
   ]
  },
  {
   "cell_type": "markdown",
   "metadata": {
    "id": "p7eQa3-I569L"
   },
   "source": [
    "### # 여성에게서 높은 평점을 받은 영화 목록 확인하기\n",
    "* 성별에 따른 250건 이상의 평점 정보가 있는 영화"
   ]
  },
  {
   "cell_type": "code",
   "execution_count": null,
   "metadata": {
    "colab": {
     "base_uri": "https://localhost:8080/",
     "height": 237
    },
    "executionInfo": {
     "elapsed": 331,
     "status": "ok",
     "timestamp": 1717455205623,
     "user": {
      "displayName": "김유희",
      "userId": "00390714496880607784"
     },
     "user_tz": -540
    },
    "id": "IImyGdaXsBYi",
    "outputId": "43f6d70f-62d4-4397-f90d-5172b1f82f24"
   },
   "outputs": [],
   "source": [
    "top_female_ratings = mean_ratings.sort_values(\"F\", ascending=False)\n",
    "top_female_ratings.head()"
   ]
  },
  {
   "cell_type": "markdown",
   "metadata": {
    "id": "B8aRgqc16WgP"
   },
   "source": [
    "### # 남성에게서 높은 평점을 받은 영화 목록 확인하기\n",
    "* 성별에 따른 250건 이상의 평점 정보가 있는 영화"
   ]
  },
  {
   "cell_type": "code",
   "execution_count": null,
   "metadata": {
    "colab": {
     "base_uri": "https://localhost:8080/",
     "height": 237
    },
    "executionInfo": {
     "elapsed": 331,
     "status": "ok",
     "timestamp": 1717455222915,
     "user": {
      "displayName": "김유희",
      "userId": "00390714496880607784"
     },
     "user_tz": -540
    },
    "id": "goBojusqbeif",
    "outputId": "ec299dbb-bfcd-4f0c-98bf-b8fd18c2de9d"
   },
   "outputs": [],
   "source": [
    "top_male_ratings = mean_ratings.sort_values(\"M\", ascending=False)\n",
    "top_male_ratings.head()"
   ]
  },
  {
   "cell_type": "markdown",
   "metadata": {
    "id": "acg0l-Di6qhn"
   },
   "source": [
    "### # 남녀 간의 호불호가 갈리는 영화를 찾기\n",
    "* 성별에 따른 250건 이상의 평점 정보가 있는 영화\n"
   ]
  },
  {
   "cell_type": "code",
   "execution_count": null,
   "metadata": {
    "executionInfo": {
     "elapsed": 308,
     "status": "ok",
     "timestamp": 1717455274752,
     "user": {
      "displayName": "김유희",
      "userId": "00390714496880607784"
     },
     "user_tz": -540
    },
    "id": "UspDieqZsBYi"
   },
   "outputs": [],
   "source": [
    "# (1) mean_ratings에 평균 평점의 차이를 계산하기\n",
    "mean_ratings[\"diff\"] = mean_ratings[\"M\"] - mean_ratings[\"F\"]"
   ]
  },
  {
   "cell_type": "code",
   "execution_count": null,
   "metadata": {
    "colab": {
     "base_uri": "https://localhost:8080/",
     "height": 237
    },
    "executionInfo": {
     "elapsed": 348,
     "status": "ok",
     "timestamp": 1717455385002,
     "user": {
      "displayName": "김유희",
      "userId": "00390714496880607784"
     },
     "user_tz": -540
    },
    "id": "vVwlT838g9sh",
    "outputId": "e344fa7a-6a9e-4f27-b4c9-da51138a215c"
   },
   "outputs": [],
   "source": [
    "# (2) 여성이 선호하는 영화 순서대로 정렬\n",
    "sorted_by_diff = mean_ratings.sort_values(\"diff\")\n",
    "sorted_by_diff.head()"
   ]
  },
  {
   "cell_type": "code",
   "execution_count": null,
   "metadata": {
    "colab": {
     "base_uri": "https://localhost:8080/",
     "height": 237
    },
    "executionInfo": {
     "elapsed": 324,
     "status": "ok",
     "timestamp": 1717456205640,
     "user": {
      "displayName": "김유희",
      "userId": "00390714496880607784"
     },
     "user_tz": -540
    },
    "id": "b-JWl8jFsBYi",
    "outputId": "534894f3-f15f-4d26-d8bb-b8d57ea5b6e6"
   },
   "outputs": [],
   "source": [
    "# (3) 역순으로 정렬한 다음 남성이 선호하는 영화 확인하기\n",
    "sorted_by_diff = mean_ratings.sort_values(\"diff\", ascending=False)\n",
    "sorted_by_diff.head()"
   ]
  },
  {
   "cell_type": "markdown",
   "metadata": {
    "id": "TkOwrBhk-0tA"
   },
   "source": [
    "### # 성별에 관계없이 영화에 대한 호불호가 극명하게 나뉘는 영화 찾기\n",
    "* 호불호는 평점의 표준편차을 이용하여 측정\n",
    "* 250건 이상의 평점 정보가 있는 영화"
   ]
  },
  {
   "cell_type": "code",
   "execution_count": null,
   "metadata": {
    "colab": {
     "base_uri": "https://localhost:8080/"
    },
    "executionInfo": {
     "elapsed": 293,
     "status": "ok",
     "timestamp": 1717456314391,
     "user": {
      "displayName": "김유희",
      "userId": "00390714496880607784"
     },
     "user_tz": -540
    },
    "id": "scQkAOKRsBYi",
    "outputId": "9d4d4e46-2506-4cdc-c099-b425ed03b2d5"
   },
   "outputs": [],
   "source": [
    "#(1) 영화별로 평점의 표준편차를 계산하고 평점이 250건 이상인 영화만 선택하기\n",
    "rating_std_by_title = data.groupby(\"title\")[\"rating\"].std()\n",
    "rating_std_by_title = rating_std_by_title.loc[active_titles]\n",
    "rating_std_by_title.head()"
   ]
  },
  {
   "cell_type": "code",
   "execution_count": null,
   "metadata": {
    "colab": {
     "base_uri": "https://localhost:8080/"
    },
    "executionInfo": {
     "elapsed": 388,
     "status": "ok",
     "timestamp": 1717456361762,
     "user": {
      "displayName": "김유희",
      "userId": "00390714496880607784"
     },
     "user_tz": -540
    },
    "id": "cVcRm8aOsBYi",
    "outputId": "aa7c0c25-05c7-4712-dc76-6d7d3064851b"
   },
   "outputs": [],
   "source": [
    "# (2) 내림차순으로 정렬하여 호불호가 극명하게 갈리는 영화 10개 선정\n",
    "rating_std_by_title.sort_values(ascending=False)[:10]"
   ]
  },
  {
   "cell_type": "markdown",
   "metadata": {
    "id": "liEV46P3_Vw5"
   },
   "source": [
    "### # 장르와 연령별로 그룹하여 평균 평점을 구하기"
   ]
  },
  {
   "cell_type": "code",
   "execution_count": null,
   "metadata": {
    "colab": {
     "base_uri": "https://localhost:8080/",
     "height": 206
    },
    "executionInfo": {
     "elapsed": 327,
     "status": "ok",
     "timestamp": 1717456476544,
     "user": {
      "displayName": "김유희",
      "userId": "00390714496880607784"
     },
     "user_tz": -540
    },
    "id": "D9wq5dSzoVoq",
    "outputId": "40574f5e-f61a-4be5-851b-e893f9b30f6a"
   },
   "outputs": [],
   "source": [
    "# 여러 장르에 속하는 영화일 경우 장르를 개별적으로 분리하기\n",
    "movies[\"genre\"] = movies.pop(\"genres\").str.split(\"|\")\n",
    "movies.head()"
   ]
  },
  {
   "cell_type": "code",
   "execution_count": null,
   "metadata": {
    "colab": {
     "base_uri": "https://localhost:8080/",
     "height": 362
    },
    "executionInfo": {
     "elapsed": 312,
     "status": "ok",
     "timestamp": 1717456634737,
     "user": {
      "displayName": "김유희",
      "userId": "00390714496880607784"
     },
     "user_tz": -540
    },
    "id": "y1IA0ehisBYj",
    "outputId": "dd7f0acf-008a-4d5e-a5fe-7aa6fab8e30a"
   },
   "outputs": [],
   "source": [
    "# (2) 복수 장르에 속하는 영화을 각 장르별로 나누기\n",
    "movies_exploded = movies.explode(\"genre\")\n",
    "movies_exploded[:10]"
   ]
  },
  {
   "cell_type": "code",
   "execution_count": null,
   "metadata": {
    "colab": {
     "base_uri": "https://localhost:8080/",
     "height": 745
    },
    "executionInfo": {
     "elapsed": 3371,
     "status": "ok",
     "timestamp": 1717456944412,
     "user": {
      "displayName": "김유희",
      "userId": "00390714496880607784"
     },
     "user_tz": -540
    },
    "id": "PSVw8qp1sBYj",
    "outputId": "06a9657f-6b58-4221-fd66-f9747fd43f89"
   },
   "outputs": [],
   "source": [
    "# (3) 세 테이블을 모두 병합하여 그룹화하기\n",
    "ratings_with_genre = pd.merge(pd.merge(movies_exploded, ratings), users)\n",
    "ratings_with_genre.head(20)"
   ]
  },
  {
   "cell_type": "code",
   "execution_count": null,
   "metadata": {
    "colab": {
     "base_uri": "https://localhost:8080/",
     "height": 394
    },
    "executionInfo": {
     "elapsed": 322,
     "status": "ok",
     "timestamp": 1717457466993,
     "user": {
      "displayName": "김유희",
      "userId": "00390714496880607784"
     },
     "user_tz": -540
    },
    "id": "k7Fg7Fj-rRSr",
    "outputId": "76b062b1-ea9b-49b3-d948-bf2976a502e0"
   },
   "outputs": [],
   "source": [
    "# (4) 장르와 연령별로 그룹하여 평균 평점을 구하기\n",
    "genre_ratings = (ratings_with_genre.groupby([\"genre\", \"age\"])\n",
    "                 [\"rating\"].mean().unstack(\"age\")\n",
    "                 )\n",
    "genre_ratings[:10]"
   ]
  },
  {
   "cell_type": "markdown",
   "metadata": {
    "id": "zhAQC88zx34h"
   },
   "source": [
    "## [데이터사이언스]\n",
    "* 선형회귀 분석\n",
    "  * 각 장르별로 연령대와 평점 간의 관계를 분석하는 선형 회귀 모델을 구축하고, 그 성능을 비교\n",
    "  * age를 독립 변수로, 각 장르별 평점을 종속 변수로 사용\n",
    "  * from sklearn.linear_model import LinearRegression"
   ]
  },
  {
   "cell_type": "code",
   "execution_count": null,
   "metadata": {
    "colab": {
     "base_uri": "https://localhost:8080/",
     "height": 1000
    },
    "executionInfo": {
     "elapsed": 7076,
     "status": "ok",
     "timestamp": 1717457880655,
     "user": {
      "displayName": "김유희",
      "userId": "00390714496880607784"
     },
     "user_tz": -540
    },
    "id": "zO_IGF8OdxpR",
    "outputId": "8d28894d-335a-4ce6-a21c-7b28674e84f4"
   },
   "outputs": [],
   "source": [
    "# 필요한 라이브러리 임포트\n",
    "import pandas as pd\n",
    "import numpy as np\n",
    "from sklearn.model_selection import train_test_split\n",
    "from sklearn.linear_model import LinearRegression\n",
    "from sklearn.metrics import mean_squared_error, r2_score\n",
    "import matplotlib.pyplot as plt\n",
    "\n",
    "# 데이터프레임 생성\n",
    "df = genre_ratings\n",
    "df.describe()\n",
    "\n",
    "# age와 각 장르의 평점을 각각 독립 변수와 종속 변수로 설정\n",
    "X = np.array([1, 18, 25, 35, 45, 50, 56]).reshape(-1, 1)\n",
    "y = df.loc[genre].values \n",
    "\n",
    "# 각 장르에 대해 선형 회귀 모델을 훈련하고 평가\n",
    "model = LinearRegression()\n",
    "model.fit(X, y)\n",
    "y_pred = model.predict(X)\n",
    "\n",
    "# 모델의 성능을 MSE와 R^2 스코어로 측정\n",
    "mse = mean_squared_error(y, y_pred)\n",
    "r2 = r2_score(y, y_pred)\n",
    "\n",
    "results.append({\n",
    "    'genre': genre,\n",
    "    'mse': mse,\n",
    "    'r2': r2\n",
    "})\n",
    "\n",
    "\n",
    "# subplots을 이용하여 각 장르에 대해 선형 회귀 모델을 훈련하고 실제값과 예측값 시각화\n",
    "\n",
    "\n",
    "\n",
    "\n",
    "\n",
    "\n",
    "# 모든 장르의 결과를 데이터프레임으로 정리\n",
    "\n",
    "\n",
    "\n",
    "# 결과 데이터프레임을 이용하여 MSE와 R^2 스코어를 막대그래프로 시각화\n",
    "\n",
    "\n"
   ]
  },
  {
   "cell_type": "markdown",
   "metadata": {
    "id": "7LRkfK6tInVm"
   },
   "source": [
    "## [데이터사이언스]\n",
    "* 로지스틱회귀 분석\n",
    "  * 각 장르별로 연령대와 평점 간의 관계를 \"good(\"0\") & bad(\"1\")로 분류분석하는 로지스틱 회귀 모델을 구축하고, 그 성능을 비교\n",
    "  * age를 독립 변수\n",
    "  * 각 장르별 평점을 종속 변수 - 이진 변수로 설정\n",
    "  * from sklearn.linear_model import LogisticRegression"
   ]
  },
  {
   "cell_type": "code",
   "execution_count": null,
   "metadata": {
    "colab": {
     "base_uri": "https://localhost:8080/",
     "height": 1000
    },
    "executionInfo": {
     "elapsed": 6009,
     "status": "ok",
     "timestamp": 1717459461473,
     "user": {
      "displayName": "김유희",
      "userId": "00390714496880607784"
     },
     "user_tz": -540
    },
    "id": "59w9V9puOkVO",
    "outputId": "d8878e51-daa8-444e-9d5c-6806622e0de9"
   },
   "outputs": [],
   "source": [
    "# 분류문제로 변경\n",
    "# 필요한 라이브러리 임포트\n",
    "import pandas as pd\n",
    "import numpy as np\n",
    "from sklearn.model_selection import train_test_split\n",
    "from sklearn.linear_model import LogisticRegression\n",
    "from sklearn.metrics import accuracy_score, confusion_matrix, classification_report\n",
    "import matplotlib.pyplot as plt\n",
    "\n",
    "# 데이터 셋 : 데이터프레임 생성\n",
    "df = genre_ratings\n",
    "\n",
    "# 데이터 전처리\n",
    "X = np.array([1, 18, 25, 35, 45, 50, 56]).reshape(-1, 1)\n",
    "threshold = 3.5\n",
    "\n",
    "# 각 장르에 대해 로지스틱 회귀 모델을 훈련하고 평가결과 시각화\n",
    "results = []\n",
    "num_genres = len(df.index)\n",
    "num_rows = (num_genres + 1) // 2\n",
    "\n",
    "fig, axs = plt.subplots(nrows=num_rows, ncols=2, figsize=(15, 5 * num_rows))\n",
    "axs = axs.flatten()\n",
    "\n",
    "for idx, genre in enumerate(df.index):\n",
    "    # 연속형 종속변수의 범주형 변수로 변환(이진변수)\n",
    "\n",
    "\n",
    "    \n",
    "    # 로지스틱 회귀 모형의 지도학습 및 예측\n",
    "\n",
    "    \n",
    "\n",
    "    # 모델의 성능을 정확도, 혼동 행렬 및 분류 보고서로 측정\n",
    "\n",
    "\n",
    "\n",
    "    # 모델의 성능 평가 결과을 데이토프레임에 저장\n",
    "\n",
    "    \n",
    "    # 각 장르에 대해 실제 값과 예측 값을 시각화\n",
    "    axs[idx].scatter(X, y, color='blue', label=\"actual\")\n",
    "    axs[idx].plot(X, model.predict(X), color='red', label=\"predicted\")\n",
    "    axs[idx].set_title(f'{genre} - Actual vs Predicted')\n",
    "    axs[idx].set_xlabel('Age')\n",
    "    axs[idx].set_ylabel('Rating')\n",
    "    axs[idx].legend()\n",
    "\n",
    "plt.tight_layout()\n",
    "plt.show()\n",
    "\n",
    "# 모든 장르의 결과를 데이터프레임으로 정리\n",
    "\n",
    "\n",
    "\n",
    "# 모든 장르의 정확도를 막대그래프로 시각화\n"
   ]
  },
  {
   "cell_type": "code",
   "execution_count": null,
   "metadata": {
    "id": "Dm_3qreb2FKk"
   },
   "outputs": [],
   "source": []
  }
 ],
 "metadata": {
  "colab": {
   "provenance": []
  },
  "kernelspec": {
   "display_name": "Python 3 (ipykernel)",
   "language": "python",
   "name": "python3"
  },
  "language_info": {
   "codemirror_mode": {
    "name": "ipython",
    "version": 3
   },
   "file_extension": ".py",
   "mimetype": "text/x-python",
   "name": "python",
   "nbconvert_exporter": "python",
   "pygments_lexer": "ipython3",
   "version": "3.11.2"
  }
 },
 "nbformat": 4,
 "nbformat_minor": 4
}
