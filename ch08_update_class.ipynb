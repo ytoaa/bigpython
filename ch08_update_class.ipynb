{
 "cells": [
  {
   "cell_type": "code",
   "execution_count": null,
   "metadata": {},
   "outputs": [],
   "source": [
    "import numpy as np\n",
    "import pandas as pd\n",
    "pd.options.display.max_rows = 20\n",
    "pd.options.display.max_colwidth = 80\n",
    "pd.options.display.max_columns = 20\n",
    "np.random.seed(12345)\n",
    "import matplotlib.pyplot as plt\n",
    "plt.rc(\"figure\", figsize=(10, 6))\n",
    "np.set_printoptions(precision=4, suppress=True)"
   ]
  },
  {
   "cell_type": "markdown",
   "metadata": {},
   "source": [
    "# 8장 데이터 준비하기 : 조인, 병합, 변형\n",
    "## 8.1. pandas.merge() 병합\n",
    "  * 특정 열을 기준으로 두 데이터프레임을 병합하며, 이때 기준이 되는 열을 지정하여 조인을 수행\n",
    "  * 종류에는 내부 조인(inner join), 외부 조인(outer join), 왼쪽 조인(left join), 오른쪽 조인(right join) 등 "
   ]
  },
  {
   "cell_type": "markdown",
   "metadata": {},
   "source": [
    "## 1. One-to-One merge\n",
    "* 동작 원리:\n",
    "  * 두 개의 데이터프레임을 병합할 때 기준이 되는 열을 선택-  이 열은 두 데이터프레임 모두에 존재해야 함\n",
    "  * 데이터프레임을 병합할 때, 지정된 열을 기준으로 한 쌍의 행을 찾아서 이를 병합.\n",
    "     - 예를 들어, 첫 번째 데이터프레임의 특정 행에서 지정된 열의 값이 \"A\"이고, 두 번째 데이터프레임에서도 이와 동일한 열에 대해 값 \"A\"를 가지는 행이 존재한다면, 이 두 행을 하나로 합친다.\n",
    "  * 결과적으로, 병합된 데이터프레임에서 각 행은 하나의 행과 하나의 행이 매칭된 결과이므로, 이러한 방식을 \"one-to-one\" merge라고 함."
   ]
  },
  {
   "cell_type": "code",
   "execution_count": null,
   "metadata": {},
   "outputs": [],
   "source": [
    "#  데이터프레임 생성\n",
    "import pandas as pd\n",
    "data1 = {\"col1\":[\"a\",\"b\",\"c\"], \"col2\":[1,2,3]}\n",
    "data2 = {\"col1\":[\"a\",\"b\",\"d\"], \"col3\":[10,20,30]}\n",
    "\n",
    "df1 = pd.DataFrame(data1)\n",
    "df2 = pd.DataFrame(data2)\n",
    "\n",
    "print(df1, \"\\n\\n\", df2)"
   ]
  },
  {
   "cell_type": "markdown",
   "metadata": {},
   "source": [
    "### 1) 매개변수 : on\n",
    "* 합칠 때 기준이 되는 열을 지정\n",
    "* 이 열은 두 데이터프레임에 모두 존재\n",
    "* 공통된 열이 1개인 경우 on 생략 가능"
   ]
  },
  {
   "cell_type": "code",
   "execution_count": null,
   "metadata": {},
   "outputs": [],
   "source": [
    "# ex\n",
    "pd.merge(df1, df2, on = \"col1\")  # ex2 pd.merge(df1, df2)"
   ]
  },
  {
   "cell_type": "markdown",
   "metadata": {},
   "source": [
    "### 2) 매개변수 : how = \"inner\"\n",
    "* 기본값은 inner인 경우 how 생략가능\n",
    "* how='inner' (기본값): 양쪽 데이터프레임에 모두 존재하는 행에 대해서만 병합. 이 경우, 교집합에 해당하는 행만 남게됨.\n",
    "* 내부 조인은 두 데이터프레임에서 공통된 값이 존재하는 행만을 남기는 조인 방식"
   ]
  },
  {
   "cell_type": "code",
   "execution_count": null,
   "metadata": {},
   "outputs": [],
   "source": [
    "#ex\n",
    "pd.merge(df1, df2, how=\"inner\") # pd.merge(df1, df2,  on = \"col1\", how = \"inner\")"
   ]
  },
  {
   "cell_type": "markdown",
   "metadata": {},
   "source": [
    "### 3) 매개변수 : how = \"left\"\n",
    "* 두 데이터프레임에 공통된 열이 존재해야 한다.\n",
    "* 동작원리:\n",
    "  * 왼쪽 데이터프레임을 기준으로 한다. 즉, 왼쪽 데이터프레임의 모든 행을 유지한다.\n",
    "  * 왼쪽 데이터프레임의 각 행에 대해 오른쪽 데이터프레임에서 동일한 값을 가지는 행을 찾는다. 이를 위해 두 데이터프레임에서 지정된 열을 비교한다.\n",
    "  * 만약 오른쪽 데이터프레임에서 해당 값을 가진 행이 없다면, 누락된 값 (NaN)으로 대체한다."
   ]
  },
  {
   "cell_type": "code",
   "execution_count": null,
   "metadata": {},
   "outputs": [],
   "source": [
    "# ex\n",
    "print(df1, \"\\n\\n\", df2)\n",
    "pd.merge(df1, df2, how = \"left\") #pd.merge(df1, df2, on = \"col1\", how = \"left\")"
   ]
  },
  {
   "cell_type": "markdown",
   "metadata": {},
   "source": [
    "## 4) 매개변수 : how = \"right\"\n",
    "* 두 데이터프레임에 공통된 열이 존재해야 한다.\n",
    "* 동작원리\n",
    "  * 오른쪽 데이터프레임을 기준으로 모든 행을 유지한다..\n",
    "  * 오른쪽 데이터프레임의 각 행에 대해 왼쪽 데이터프레임에서 동일한 값을 가지는 행을 찾는다. 이를 위해 두 데이터프레임에서 지정된 열을 비교한다.\n",
    "  * 만약 왼쪽 데이터프레임에서 해당 값을 가진 행이 없다면, 누락된 값 (NaN)으로 대체"
   ]
  },
  {
   "cell_type": "code",
   "execution_count": null,
   "metadata": {},
   "outputs": [],
   "source": [
    "# ex\n",
    "print(df1, \"\\n\\n\", df2)\n",
    "pd.merge(df1, df2, how=\"right\") #pd.merge(df1, df2, on = \"col1\", how=\"right\")"
   ]
  },
  {
   "cell_type": "markdown",
   "metadata": {},
   "source": [
    "### 5) 매개변수 : how = \"outer\"\n",
    "* 동작원리\n",
    "  * 왼쪽 데이터프레임과 오른쪽 데이터프레임의 모든 행을 포함\n",
    "  * 두 데이터프레임의 공통된 값을 기준으로 행을 병합. 만약 두 데이터프레임에 공통된 값이 없다면, 누락된 값 (NaN)으로 대체"
   ]
  },
  {
   "cell_type": "code",
   "execution_count": null,
   "metadata": {},
   "outputs": [],
   "source": [
    "#ex\n",
    "print(df1,\"\\n\\n\", df2)\n",
    "pd.merge(df1, df2, how=\"outer\") # pd.merge(df1, df2, on = \"col1\", how=\"outer\")"
   ]
  },
  {
   "cell_type": "markdown",
   "metadata": {},
   "source": [
    "### 6) 매개변수 : left_on과 right_on\n",
    "* 기본적으로, merge() 함수는 동일한 이름의 열을 기준으로 조인함. 하지만 경우에 따라 왼쪽 데이터프레임과 오른쪽 데이터프레임에 동일한 이름의 열이 없는 경우에는 left_on과 right_on을 사용하여 다른 열을 기준으로 조인할 수 있다.\n",
    "* 동작 원리\n",
    "  * left_on: 왼쪽 데이터프레임에서 조인할 열을 지정. 이 열은 왼쪽 데이터프레임에 존재해야 함\n",
    "  * right_on: 오른쪽 데이터프레임에서 조인할 열을 지. 이 열은 오른쪽 데이터프레임에 존재해야 함\n",
    "  * left_on과 right_on에 지정된 열의 값이 일치하는 행을 찾아서 조인함."
   ]
  },
  {
   "cell_type": "code",
   "execution_count": null,
   "metadata": {},
   "outputs": [],
   "source": [
    "# ex\n",
    "import pandas as pd\n",
    "\n",
    "# 첫 번째 데이터프레임 생성\n",
    "data1 = {'key': [1, 2, 3],\n",
    "         'value': ['A', 'B', 'C']}\n",
    "df1 = pd.DataFrame(data1)\n",
    "\n",
    "# 두 번째 데이터프레임 생성\n",
    "data2 = {'id': [1, 2, 3],\n",
    "         'category': ['X', 'Y', 'Z']}\n",
    "df2 = pd.DataFrame(data2)\n",
    "\n",
    "# df1과 df2를 'key'와 'id' 열을 기준으로 조인하여 merged_df 생성\n",
    "merged_df = pd.merge(df1, df2, left_on='key', right_on='id', how=\"inner\")\n",
    "\n",
    "# 결과 출력\n",
    "print(merged_df)\n"
   ]
  },
  {
   "cell_type": "markdown",
   "metadata": {},
   "source": [
    "### 7) 매개변수 : left_index과 right_index\n",
    "* 인덱스를 기준으로 조인할 때는 기본적으로 인덱스 값이 일치하는 행끼리 조인을 수행.\n",
    "* 동일한 이름의 열이 존재할 경우에는 첫 번째 데이터프레임의 열 이름에는 _x 접미사, 두 번째 데이터프레임의 열 이름에는 _y 접미사가 붙는다\n",
    "* 동작 원리\n",
    "  * left_index: 왼쪽 데이터프레임의 인덱스를 기준으로 조인함. 기본값은 False이며, True로 설정하면 왼쪽 데이터프레임의 인덱스를 기준으로 조인.\n",
    "  * right_index: 오른쪽 데이터프레임의 인덱스를 기준으로 조인. 기본값은 False이며, True로 설정하면 오른쪽 데이터프레임의 인덱스를 기준으로 조인.\n",
    "  * 만약 left_index와 right_index 둘 다 True로 설정되어 있다면, 각각의 데이터프레임의 인덱스를 기준으로 조인"
   ]
  },
  {
   "cell_type": "code",
   "execution_count": null,
   "metadata": {},
   "outputs": [],
   "source": [
    "data1 = {\"col1\":[\"a\",\"b\",\"c\"], \"col2\":[1,2,3]}\n",
    "data2 = {\"col1\":[\"a\",\"b\",\"d\"], \"col3\":[10,20,30]}\n",
    "df1 = pd.DataFrame(data1)\n",
    "df2 = pd.DataFrame(data2)\n",
    "print(df1, \"\\n\\n\", df2)"
   ]
  },
  {
   "cell_type": "code",
   "execution_count": null,
   "metadata": {},
   "outputs": [],
   "source": [
    "# ex1\n",
    "pd.merge(df1, df2, right_index = True, left_index = True)"
   ]
  },
  {
   "cell_type": "markdown",
   "metadata": {},
   "source": [
    "## 2. many-to-One merge\n",
    "    * 한쪽 데이터프레임의 특정 열에 중복된 여러 행의 값이 있고, 다른쪽 데이터프레임의 해당 값과 일치하는 경우을 표현\n",
    "    * 동작 원리\n",
    "        * 기준이 되는 데이터프레임을 선택. 일반적으로는 행의 개수가 많은 쪽을 기준으로 선택\n",
    "        * 기준이 되는 데이터프레임의 중복된 값을 가진 열을 기준으로 다른 데이터프레임과 조인\n",
    "        * 기준이 되는 데이터프레임의 중복된 값에 해당하는 행들이 다른 데이터프레임의 해당 값을 가진 행과 조인    "
   ]
  },
  {
   "cell_type": "markdown",
   "metadata": {},
   "source": [
    "### [문제] 고객 정보와 주문 정보를 포함하는 두 개의 데이터프레임이 있다고 가정. \n",
    "* 여러 주문이 하나의 고객에 의해 생성된다면, 이는 many-to-one 조인에 해당. \n",
    "* 이 경우, 고객 정보 데이터프레임의 고객 ID 열과 주문 정보 데이터프레임의 고객 ID 열을 기준으로 조인하여, \n",
    "* 각 주문이 해당하는 고객의 정보와 함께 표시"
   ]
  },
  {
   "cell_type": "code",
   "execution_count": null,
   "metadata": {},
   "outputs": [],
   "source": [
    "import pandas as pd\n",
    "\n",
    "# 첫 번째 데이터프레임 생성 (many)\n",
    "data1 = {'customer_id': [1, 2, 3, 4, 4],\n",
    "         'customer_name': ['경수', '철수', '영수', '강수', '강수']}\n",
    "df1 = pd.DataFrame(data1)\n",
    "\n",
    "# 두 번째 데이터프레임 생성 (one)\n",
    "data2 = {'customer_id': [1, 2, 3, 4],\n",
    "         'order_id': [101, 102, 103, 104]}\n",
    "df2 = pd.DataFrame(data2)\n",
    "\n",
    "# many-to-one 조인 수행\n",
    "## df1은 많은(many) 쪽이고, df2는 하나(one) 쪽\n",
    "## on='customer_id'는 조인할 열을 지정하고, \n",
    "## how='left'는 왼쪽 데이터프레임(df2)을 기준으로 조인\n",
    "##최종적으로는 많은(many) 쪽인 df1의 정보가 유지되면서 하나(one) 쪽인 df2의 정보가 추가\n",
    "\n",
    "merged_df = pd.merge(df1, df2, on='customer_id', how='left')\n",
    "\n",
    "# 결과 출력\n",
    "print(merged_df)"
   ]
  },
  {
   "cell_type": "markdown",
   "metadata": {},
   "source": [
    "### [예제]     "
   ]
  },
  {
   "cell_type": "code",
   "execution_count": null,
   "metadata": {},
   "outputs": [],
   "source": [
    "# many-to-one : 병합의 기준 열 : key\n",
    "df1 = pd.DataFrame({\"key\": [\"b\", \"b\", \"a\", \"c\", \"a\", \"a\", \"b\"],\n",
    "                    \"data1\": pd.Series(range(7), dtype=\"Int64\")})\n",
    "\n",
    "df2 = pd.DataFrame({\"key\": [\"a\", \"b\", \"d\"],\n",
    "                    \"data2\": pd.Series(range(3), dtype=\"Int64\")})\n",
    "\n",
    "print(df1, \"\\n\\n\", df2)\n",
    "\n",
    "pd.merge(df1, df2, on=\"key\", how=\"inner\")\n",
    "pd.merge(df1, df2, on=\"key\", how=\"outer\")\n"
   ]
  },
  {
   "cell_type": "code",
   "execution_count": null,
   "metadata": {},
   "outputs": [],
   "source": [
    "#ex : 두 데이터프레임에 공통된 열 이름이 없는 경우\n",
    "df3 = pd.DataFrame({\"lkey\": [\"b\", \"b\", \"a\", \"c\", \"a\", \"a\", \"b\"],\n",
    "                    \"data1\": pd.Series(range(7), dtype=\"Int64\")})\n",
    "df4 = pd.DataFrame({\"rkey\": [\"a\", \"b\", \"d\"],\n",
    "                    \"data2\": pd.Series(range(3), dtype=\"Int64\")})\n",
    "print(df3, \"\\n\\n\", df4)"
   ]
  },
  {
   "cell_type": "code",
   "execution_count": null,
   "metadata": {},
   "outputs": [],
   "source": [
    "# ex1\n",
    "pd.merge(df3, df4, left_on=\"lkey\", right_on=\"rkey\") # pd.merge(df3, df4, left_on=\"lkey\", right_on=\"rkey\", how=\"inner\")"
   ]
  },
  {
   "cell_type": "code",
   "execution_count": null,
   "metadata": {},
   "outputs": [],
   "source": [
    "# ex2\n",
    "pd.merge(df3, df4, left_on=\"lkey\", right_on=\"rkey\", how = \"outer\")"
   ]
  },
  {
   "cell_type": "code",
   "execution_count": null,
   "metadata": {},
   "outputs": [],
   "source": [
    "# ex3\n",
    "print(df3,\"\\n\\n\", df4)\n",
    "\n",
    "pd.merge(df3, df4, left_on=\"lkey\", right_on=\"rkey\", how = \"left\")"
   ]
  },
  {
   "cell_type": "code",
   "execution_count": null,
   "metadata": {},
   "outputs": [],
   "source": [
    "# ex4\n",
    "print(df3,\"\\n\\n\", df4)\n",
    "\n",
    "pd.merge(df3, df4, left_on=\"lkey\", right_on=\"rkey\", how = \"right\")"
   ]
  },
  {
   "cell_type": "code",
   "execution_count": null,
   "metadata": {},
   "outputs": [],
   "source": [
    "# ex4 : 색인 병합하기\n",
    "# 인덱스를 기준으로 조인하므로 on 매개변수를 사용하지 않음\n",
    "# 결과적으로, 두 데이터프레임의 인덱스가 일치하는 행끼리 조인. 만약 일치하는 인덱스가 없는 경우 해당 행은 제외.\n",
    "print(df3,\"\\n\\n\", df4)\n",
    "pd.merge(df3, df4, left_index = True, right_index = True)"
   ]
  },
  {
   "cell_type": "markdown",
   "metadata": {},
   "source": [
    "## 3. many-to-many merge\n",
    "    * many-to-many merge는 두 데이터프레임 사이의 많은(many) 대 많은(many) 관계를 가정할 때 사용\n",
    "    * 이는 각 데이터프레임의 조인 키에 중복된 값이 있는 경우를 의미. \n",
    "    * 동작 원리\n",
    "        * 각 데이터프레임에서 조인할 열에 중복된 값이 있는 경우, 중복된 값들을 복제한다.\n",
    "        * 이 중복된 값들을 기반으로 조인을 수행. 각 조합은 가능한 모든 조합에 대해 생성된다.\n",
    "    * 두 데이터프레임에 공통된 열 이름이 있는 경우 곱집합을 생성"
   ]
  },
  {
   "cell_type": "markdown",
   "metadata": {},
   "source": [
    "### [문제] 학생과 각 학생이 수강한 과목에 대한 정보를 포함하는 두 개의 데이터프레임이 있다고 가정\n",
    "* 한 명의 학생이 여러 개의 과목을 수강하고, 여러 명의 학생이 동일한 과목을 수강할 수 있다\n",
    "* 이 경우, 학생과 과목 사이에는 many-to-many 관계가 있다.\n",
    "* 결과적으로, 모든 가능한 학생-과목 조합에 대한 새로운 행이 생성."
   ]
  },
  {
   "cell_type": "code",
   "execution_count": null,
   "metadata": {},
   "outputs": [],
   "source": [
    "import pandas as pd\n",
    "\n",
    "# 첫 번째 데이터프레임 생성: 학생과 수강한 과목\n",
    "data1 = {'student_id': [1, 1, 2, 2, 3],\n",
    "         'subject': ['Python', 'AI', 'Python', 'BigData', 'AI']}\n",
    "df1 = pd.DataFrame(data1)\n",
    "\n",
    "# 두 번째 데이터프레임 생성: 과목과 해당 교수\n",
    "data2 = {'subject': ['Python', 'AI', 'BigData', 'ML'],\n",
    "         'professor': ['Dr. Choi', 'Dr. Park', 'Dr. Lee', 'Dr. Kim']}\n",
    "df2 = pd.DataFrame(data2)\n",
    "\n",
    "# many-to-many merge 수행\n",
    "merged_df = pd.merge(df1, df2, on='subject')\n",
    "\n",
    "# 결과 출력\n",
    "print(df1, \"\\n\\n\",df2)\n",
    "print()\n",
    "print(merged_df)"
   ]
  },
  {
   "cell_type": "markdown",
   "metadata": {},
   "source": [
    "### [예제]"
   ]
  },
  {
   "cell_type": "code",
   "execution_count": null,
   "metadata": {},
   "outputs": [],
   "source": [
    "# ex1\n",
    "df1 = pd.DataFrame({\"key\": [\"b\", \"b\", \"a\", \"c\", \"a\", \"b\"],\n",
    "                    \"data1\": pd.Series(range(6), dtype=\"Int64\")})\n",
    "df2 = pd.DataFrame({\"key\": [\"a\", \"b\", \"a\", \"b\", \"d\"],\n",
    "                    \"data2\": pd.Series(range(5), dtype=\"Int64\")})\n",
    "print(df1,\"\\n\\n\", df2)\n",
    "\n",
    "pd.merge(df1, df2, on=\"key\", how=\"left\")\n",
    "\n",
    "#왼쪽 데이터프레임인 df1의 모든 행이 유지되고, df2의 해당 값을 가진 행이 있는 경우에는 해당 값을 추가로 포함.\n",
    "#만약 df2에서 일치하는 값이 여러 개인 경우에는 조합된 결과가 포함. \n",
    "#만약 df2에서 일치하는 값이 없는 경우에는 누락된 값 (NaN)으로 채워짐"
   ]
  },
  {
   "cell_type": "code",
   "execution_count": null,
   "metadata": {},
   "outputs": [],
   "source": [
    "#ex 2\n",
    "print(df1,\"\\n\\n\", df2)\n",
    "\n",
    "pd.merge(df1, df2, on=\"key\", how=\"inner\")"
   ]
  },
  {
   "cell_type": "code",
   "execution_count": null,
   "metadata": {},
   "outputs": [],
   "source": [
    "#ex 3\n",
    "print(df1,\"\\n\\n\", df2)\n",
    "\n",
    "pd.merge(df1, df2, on=\"key\", how=\"outer\")"
   ]
  },
  {
   "cell_type": "code",
   "execution_count": null,
   "metadata": {},
   "outputs": [],
   "source": [
    "#ex 4\n",
    "print(df1,\"\\n\\n\", df2)\n",
    "\n",
    "pd.merge(df1, df2, on=\"key\", how=\"right\")"
   ]
  },
  {
   "cell_type": "markdown",
   "metadata": {},
   "source": [
    "# 8.2. concat 함수를 사용한 두 데이터프레임 이어 붙이기\n",
    "* 여러 개의 객체를 리스트에 담아서 pandas.concat 함수에 전달\n",
    "* 수직 결합: 두 개 이상의 데이터프레임을 동일한 열을 기준으로 아래로 연결하는 것을 의미\n",
    "    * 이는 axis=0을 사용하여 수행\n",
    "* 수평 결합: 두 개 이상의 데이터프레임을 동일한 행을 기준으로 옆으로 연결하는 것을 의미합니다.\n",
    "  * 이는 axis=1을 사용하여 수행\n",
    "* pandas.concat()은 수직 및 수평 결합을 수행하는 반면, pandas.merge()는 열을 기준으로 병합을 수행"
   ]
  },
  {
   "cell_type": "markdown",
   "metadata": {},
   "source": [
    "### [문제]"
   ]
  },
  {
   "cell_type": "code",
   "execution_count": null,
   "metadata": {},
   "outputs": [],
   "source": [
    "# ex1\n",
    "df1 = pd.DataFrame({\"A\":[\"a0\",\"a1\",\"a2\"],\n",
    "                    \"B\": [\"b0\",\"b1\",\"b2\"],\n",
    "                    \"C\":[\"c0\", \"c1\",\"c2\"]})\n",
    "\n",
    "df2 = pd.DataFrame({\"A\":[\"a4\",\"a5\",\"a6\"],\n",
    "                    \"B\": [\"b4\",\"b5\",\"b6\"],\n",
    "                    \"C\":[\"c4\", \"c5\",\"c6\"]})\n",
    "\n",
    "print(df1,\"\\n\\n\", df2)"
   ]
  },
  {
   "cell_type": "markdown",
   "metadata": {},
   "source": [
    "## 1) axis 매개변수- 수직 방향 이어붙이기\n",
    "* pandas.concat(axis=0)"
   ]
  },
  {
   "cell_type": "code",
   "execution_count": null,
   "metadata": {},
   "outputs": [],
   "source": [
    "#ex1\n",
    "dataframe_list = [df1, df2]\n",
    "pd.concat(dataframe_list, axis=\"index\") #pd.concat(dataframe_list)\n",
    "# 인덱스 재설정\n",
    "df = pd.concat(dataframe_list, ignore_index=True)\n",
    "df"
   ]
  },
  {
   "cell_type": "code",
   "execution_count": null,
   "metadata": {},
   "outputs": [],
   "source": [
    "# ex 2:  테이터프레임 df1에  시리즈을 수직(행)으로 이어붙이기\n",
    "## 1. 시리즈 생성\n",
    "s1 = pd.Series(['n1', 'n2', 'n3'])\n",
    "print(s1)\n",
    "## 2. 데이터프레임에 시리즈 추가\n",
    "pd.concat([df, s1], axis=0)"
   ]
  },
  {
   "cell_type": "code",
   "execution_count": null,
   "metadata": {},
   "outputs": [],
   "source": [
    "## 3. 시리즈을 데이터프레임으로 변환\n",
    "row_s1 = pd.DataFrame(data=[['n1', 'n2', 'n3']], columns=['A', 'B', 'C'])\n",
    "pd.concat([df, row_s1])\n",
    "\n",
    "## 4. 기존 인덱스는 무시하고 새로운 인덱스 설정하기\n",
    "pd.concat([df, row_s1], ignore_index = True)\n"
   ]
  },
  {
   "cell_type": "markdown",
   "metadata": {},
   "source": [
    "## 2)  axis 매개변수- 수평(열) 방향 이어붙이기\n",
    "* pandas.concat( axis = 1)\n",
    "* axis의 기본값은 0( 또는 \"index\") 이므로 매개변수를 따로 지정하지 않으면 데이터를 기본값인 수직방향으로 덧붙여 연결함\n",
    "* axis를 1 또는 \"columns\"로 설정하면 수평(열) 방향으로 연결"
   ]
  },
  {
   "cell_type": "code",
   "execution_count": null,
   "metadata": {},
   "outputs": [],
   "source": [
    "#ex - 데이터프레임을 열 방향으로 연결하고 인덱스가 같은 행끼리 연결 - 인덱스가 다른 데이터는 결측값으로 표시\n",
    "print(df1, \"\\n\\n\", df2) # 인덱스가 같은 데이터 열 방향 연결하기\n",
    "pd.concat([df1, df2], axis = \"columns\")"
   ]
  },
  {
   "cell_type": "markdown",
   "metadata": {},
   "source": [
    "## 3) join 매개변수 -  수직(행)방향으로 연결하기\n",
    "* join = \"outer\"\n",
    "* concat의 매개변수 join의 기본값은 outer\n",
    "* 연결할 데이터프레임 객체 사이의 모든열을 유지"
   ]
  },
  {
   "cell_type": "code",
   "execution_count": null,
   "metadata": {},
   "outputs": [],
   "source": [
    "# ex : 열 이름이 각기 다른 데이터프레임 생성\n",
    "## 컬럼 이름 변경하기\n",
    "df2.columns = ['E','F', 'G']\n",
    "print(df1, \"\\n\\n\", df2)"
   ]
  },
  {
   "cell_type": "code",
   "execution_count": null,
   "metadata": {},
   "outputs": [],
   "source": [
    "df2_concat = pd.concat([df1, df2], join = \"outer\")\n",
    "\n",
    "df2_concat"
   ]
  },
  {
   "cell_type": "markdown",
   "metadata": {},
   "source": [
    "## 4) join 매개변수 -  수직(행)방향으로 연결하기\n",
    "* join = \"inner\"\n",
    "* 연결할 데이터프레임 객체 사이 공통인 열만 유지 "
   ]
  },
  {
   "cell_type": "code",
   "execution_count": null,
   "metadata": {},
   "outputs": [],
   "source": [
    "#ex\n",
    "df1 = pd.DataFrame({\"A\":[\"a0\",\"a1\",\"a2\"],\n",
    "                    \"B\": [\"b0\",\"b1\",\"b2\"],\n",
    "                    \"C\":[\"c0\", \"c1\",\"c2\"]})\n",
    "\n",
    "df2 = pd.DataFrame({\"A\":[\"a4\",\"a5\",\"a6\"],\n",
    "                    \"B\": [\"b4\",\"b5\",\"b6\"],\n",
    "                    \"C\":[\"c4\", \"c5\",\"c6\"]})\n",
    "pd.concat([df1, df2], join = \"inner\", ignore_index=True) # pd.concat([df1, df3], join = \"inner\", axis=\"index\", ignore_index=True) \n"
   ]
  },
  {
   "cell_type": "markdown",
   "metadata": {},
   "source": [
    "### [문제] 인덱스가 다른 데이터프레임의 열 방향 연결하기"
   ]
  },
  {
   "cell_type": "code",
   "execution_count": null,
   "metadata": {},
   "outputs": [],
   "source": [
    "df1.index =  [0,1,2]\n",
    "df2.index = [4,5,6]\n",
    "print(df1, \"\\n\\n\", df2)"
   ]
  },
  {
   "cell_type": "code",
   "execution_count": null,
   "metadata": {},
   "outputs": [],
   "source": [
    "#ex - join = \"inner\" - 인덱스가 공통인 데이터만 연결\n",
    "pd.concat([df1, df2], axis = \"columns\", join = \"inner\")\n"
   ]
  },
  {
   "cell_type": "markdown",
   "metadata": {},
   "source": [
    "### [문제]\n",
    "* pandas.concat()을 사용하여 수직 결합 수행\n",
    "* pandas.concat()을 사용하여 수평 결합 수행\n",
    "* pandas.merge()를 사용하여 열을 기준으로 내부 병합 수행\n",
    "* pandas.merge()를 사용하여 열을 기준으로 외부 병합 수행"
   ]
  },
  {
   "cell_type": "code",
   "execution_count": null,
   "metadata": {},
   "outputs": [],
   "source": [
    "import pandas as pd\n",
    "\n",
    "# 데이터프레임 생성\n",
    "df1 = pd.DataFrame({'A': ['A0', 'A1', 'A2'],\n",
    "                    'B': ['B0', 'B1', 'B2']})\n",
    "\n",
    "df2 = pd.DataFrame({'A': ['A3', 'A4', 'A5'],\n",
    "                    'B': ['B3', 'B4', 'B5']})\n",
    "\n",
    "print(df1,\"\\n\\n\",df2,\"\\n\")\n",
    "# pandas.concat()을 사용하여 수직 결합\n",
    "result_concat_vertical = pd.concat([df1, df2], axis=0)\n",
    "print(\"수직 결합:\")\n",
    "print(result_concat_vertical)\n",
    "print()\n",
    "\n",
    "# pandas.concat()을 사용하여 수평 결합 수행\n",
    "result_concat_horizontal = pd.concat([df1, df2], axis=1)\n",
    "print(\"수평결합:\")\n",
    "print(result_concat_horizontal)\n",
    "print()\n",
    "\n",
    "# pandas.merge()를 사용하여 열을 기준으로 병합(inner join) 수행\n",
    "result_merge_inner = pd.merge(df1,df2, on='A', how='inner')\n",
    "print(\"내부 조인:\")\n",
    "print(result_merge_inner)\n",
    "print()\n",
    "\n",
    "# pandas.merge()를 사용하여 열을 기준으로 병합(outer join) 수행\n",
    "result_merge_outer = pd.merge(df1,df2, on='A', how='outer')\n",
    "print(\"외부 조인:\")\n",
    "print(result_merge_outer)\n",
    "print()\n"
   ]
  },
  {
   "cell_type": "markdown",
   "metadata": {},
   "source": [
    "## [예제] - 시리즈 연결(p.360)"
   ]
  },
  {
   "cell_type": "code",
   "execution_count": null,
   "metadata": {},
   "outputs": [],
   "source": [
    "# 데이터 셋\n",
    "s1 = pd.Series([0, 1], index=[\"a\", \"b\"], dtype=\"Int64\", name=\"s1\")\n",
    "s2 = pd.Series([2, 3, 4], index=[\"c\", \"d\", \"e\"], dtype=\"Int64\", name = \"s2\")\n",
    "s3 = pd.Series([5, 6], index=[\"f\", \"g\"], dtype=\"Int64\", name = \"s3\")\n",
    "\n",
    "print(s1, \"\\n\\n\", s2, \"\\n\\n\", s3)"
   ]
  },
  {
   "cell_type": "code",
   "execution_count": null,
   "metadata": {},
   "outputs": [],
   "source": [
    "# ex1 수직 방향으로 이어 붙이기  ----> 결과는 Series 반환\n",
    "result = pd.concat([s1, s2, s3], axis=\"index\") #result = pd.concat([s1, s2, s3]) \n",
    "result"
   ]
  },
  {
   "cell_type": "code",
   "execution_count": null,
   "metadata": {},
   "outputs": [],
   "source": [
    "# ex2 수평 방향으로 이어 붙이기  ----> 결과는 DataFrame 반환\n",
    "s4= pd.concat([s1, s2, s3], axis=\"columns\") #일치하지 않은 인덱스의 값은 결측 처리 \n",
    "s4"
   ]
  },
  {
   "cell_type": "code",
   "execution_count": null,
   "metadata": {},
   "outputs": [],
   "source": [
    "# ex3  열 방향으로 이어 붙이기 ---> 결과는 DataFrame 반환\n",
    "result = pd.concat([s1, s2, s3], axis=\"columns\", join=\"outer\") #일치하지 않은 인덱스의 값은 결측 처리 \n",
    "result # 겹치는 축이 없으므로외부 조인으로 합집합을 얻음\n"
   ]
  },
  {
   "cell_type": "code",
   "execution_count": null,
   "metadata": {},
   "outputs": [],
   "source": [
    "# ex4\n",
    "print(s1, \"\\n\\n\", s4)\n",
    "result = pd.concat([s1,s4], axis=\"columns\", join=\"inner\") # 겹치는 축이 있으므로 내부 조인으로 교집합을 얻음\n",
    "result"
   ]
  },
  {
   "cell_type": "markdown",
   "metadata": {},
   "source": [
    "## [예제] - 데이터프레임 연결(p.363)"
   ]
  },
  {
   "cell_type": "code",
   "execution_count": null,
   "metadata": {},
   "outputs": [],
   "source": [
    "import numpy as np\n",
    "import pandas as pd\n",
    "df1 = pd.DataFrame(np.arange(6).reshape(3, 2), index=[\"a\", \"b\", \"c\"],\n",
    "                   columns=[\"one\", \"two\"])\n",
    "df2 = pd.DataFrame(5 + np.arange(4).reshape(2, 2), index=[\"a\", \"c\"],\n",
    "                   columns=[\"three\", \"four\"])\n",
    "print(df1, \"\\n\\n\", df2)"
   ]
  },
  {
   "cell_type": "code",
   "execution_count": null,
   "metadata": {},
   "outputs": [],
   "source": [
    "# ex1 - 열 방향으로 합치고 데이터프레임의 컬럼 식볋하기 위해 계층 색인 만들기\n",
    "## 첫 번째 계층은 이어 붙인 각 DataFrame 객체를 구분하는 용도로 사용\n",
    "pd.concat([df1, df2], axis=\"columns\")\n",
    "\n",
    "pd.concat([df1, df2], axis=\"columns\", keys=[\"level1\", \"level2\"])\n"
   ]
  },
  {
   "cell_type": "code",
   "execution_count": null,
   "metadata": {},
   "outputs": [],
   "source": [
    "# ex2 : ignore_index = True 옵션 사용 - DataFrame의 색인은 무시하고, 열에 있는 데이터만 이어 붙인 다음 새로운 기본 색인을 할당\n",
    "\n",
    "df1 = pd.DataFrame(np.random.standard_normal((3, 4)),\n",
    "                   columns=[\"a\", \"b\", \"c\", \"d\"])\n",
    "df2 = pd.DataFrame(np.random.standard_normal((2, 3)),\n",
    "                   columns=[\"b\", \"d\", \"a\"])\n",
    "\n",
    "print(df1, \"\\n\\n\", df2)\n",
    "\n",
    "pd.concat([df1,df2], ignore_index=True)"
   ]
  },
  {
   "cell_type": "markdown",
   "metadata": {},
   "source": [
    "# 5장 -  apply() 메서드로 함수 적용하기(p.226)\n",
    "* apply()는 사용자 정의 함수 또는 파이썬 내장함수를 데이터프레임의 각 행이나 열 전체에 걸쳐 적용할 수 있게 해주는 메서드\n",
    "* apply() 메서드를 사용하지 않아도 for문을 이용하면 각 데이터에 함수를 적용할 수 있다.\n",
    "  * 하지만 대용량 데이터를 처리할 때는 for문보다 빠르다."
   ]
  },
  {
   "cell_type": "markdown",
   "metadata": {},
   "source": [
    "### 1) Series.apply(함수명) \n",
    "    - 시리즈에 함수를 적용하기\n",
    "    - apply() 메서드에 함수를 인수로 전달할 때는 함수 이름 옆에 소괄호를 덧붙이지 않는다."
   ]
  },
  {
   "cell_type": "code",
   "execution_count": null,
   "metadata": {},
   "outputs": [],
   "source": [
    "# ex: df의  a 열의 모든 값을 제곱하기\n",
    "import pandas as pd\n",
    "df = pd.DataFrame({\"a\":[10,20,30], \"b\":[20,30,40]})\n",
    "# 1.함수\n",
    "def square(num):\n",
    "    return num**2\n",
    "# 2.시리즈의 모든 요소에 지정한 함수를 적용\n",
    "s = df[\"a\"].apply(square)\n",
    "print(s)"
   ]
  },
  {
   "cell_type": "markdown",
   "metadata": {},
   "source": [
    "### 2) dataFrame.apply(함수명, axis=) \n",
    "    - 데이터프레임은 일반적으로 2개 이상의 차원으로 구성\n",
    "    - 데이터프레임에 함수를 적용할 때는 함수를 적용할 축(열 또는 행)을 지정해야 한다."
   ]
  },
  {
   "cell_type": "code",
   "execution_count": null,
   "metadata": {},
   "outputs": [],
   "source": [
    "# ex1:  열을 대상으로 지정 함수 적용 : apply( axis=0), apply( axis =\"index\")\n",
    "## 파이썬 내장함수 print() 적용하기\n",
    "df.apply(print, axis=\"index\") # 열 단위로 데이터프레임에 print() 적용"
   ]
  },
  {
   "cell_type": "code",
   "execution_count": null,
   "metadata": {},
   "outputs": [],
   "source": [
    "# ex2: 행 단위로 함수 적용하기 - apply(axix=\"columns\")\n",
    "df.apply(print, axis=\"columns\")"
   ]
  },
  {
   "cell_type": "markdown",
   "metadata": {},
   "source": [
    "### [예제] p.226"
   ]
  },
  {
   "cell_type": "code",
   "execution_count": null,
   "metadata": {},
   "outputs": [],
   "source": [
    "# ex1- 사용자 정의 함수을 적용하기\n",
    "import numpy as np\n",
    "frame = pd.DataFrame(np.random.standard_normal((4, 3)),\n",
    "                     columns=list(\"bde\"),\n",
    "                     index=[\"Utah\", \"Ohio\", \"Texas\", \"Oregon\"])\n",
    "frame"
   ]
  },
  {
   "cell_type": "code",
   "execution_count": null,
   "metadata": {},
   "outputs": [],
   "source": [
    "def f1(x):\n",
    "    return x.max() \n",
    "\n",
    "# 각 열에 대해 한번씩만 적용하여 결과값은 게산을 적용한 열을 색인으로 시리즈로 반환\n",
    "frame.apply(f1, axis=\"index\") # axis= 0"
   ]
  },
  {
   "cell_type": "code",
   "execution_count": null,
   "metadata": {},
   "outputs": [],
   "source": [
    "#  각 행에 대해서 한번씩만 수행하고, 결과값은 게산을 적용한 행을 색인으로 시리즈 반환\n",
    "frame.apply(f1, axis = \"columns\") "
   ]
  },
  {
   "cell_type": "code",
   "execution_count": null,
   "metadata": {},
   "outputs": [],
   "source": [
    "# ex2 - 사용자정의함수\n",
    "print(frame)\n",
    "def f2(x):\n",
    "    return pd.Series([x.min(), x.max()], index=[\"min\", \"max\"])\n",
    "frame.apply(f2, axis = \"index\")"
   ]
  },
  {
   "cell_type": "markdown",
   "metadata": {},
   "source": [
    "### 3) apply 함수와 lambda 함수 \n",
    "    -  apply() 메서드로 전달할 함수가 별도의 함수로 정의할 필요가 없을 만큼 간단한 경우 익명함수로 사용하기"
   ]
  },
  {
   "cell_type": "code",
   "execution_count": null,
   "metadata": {},
   "outputs": [],
   "source": [
    "# ex1\n",
    "## 1. DaaFrmae\n",
    "print(df)\n",
    "print()\n",
    "## 2. function\n",
    "def square(num):\n",
    "    return num**2\n",
    "\n",
    "## 3. 데이터프레임의 a열의 값을 제곱하기\n",
    "df['a_square']= df['a'].apply(square)\n",
    "\n",
    "## 4. lambda함수을 apply() 메서드의 인수로 사용하기\n",
    "df['a_square'] = df['a'].apply(lambda num : num**2)\n",
    "df"
   ]
  },
  {
   "cell_type": "code",
   "execution_count": null,
   "metadata": {},
   "outputs": [],
   "source": [
    "# ex2\n",
    "## 1. DtaFrmae\n",
    "print(df)\n",
    "print()\n",
    "\n",
    "## 2 데이터프레임의 행 단위로 a, b열의 총합을 구하기- 파이썬 내장함수 사용\n",
    "df['sum']= df[['a','b']].apply(sum, axis=\"columns\")\n",
    "print(df)\n",
    "print()\n",
    "\n",
    "## 2 데이터프레임의 행 단위로 a, b열의 평균을 구하기\n",
    "df['mean'] = df[['a', 'b']].apply(lambda x: x.mean(), axis=\"columns\")\n",
    "print(df)\n",
    "print()"
   ]
  }
 ],
 "metadata": {
  "kernelspec": {
   "display_name": "Python 3 (ipykernel)",
   "language": "python",
   "name": "python3"
  },
  "language_info": {
   "codemirror_mode": {
    "name": "ipython",
    "version": 3
   },
   "file_extension": ".py",
   "mimetype": "text/x-python",
   "name": "python",
   "nbconvert_exporter": "python",
   "pygments_lexer": "ipython3",
   "version": "3.12.2"
  }
 },
 "nbformat": 4,
 "nbformat_minor": 4
}
