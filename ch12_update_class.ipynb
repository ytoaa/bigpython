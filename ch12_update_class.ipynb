{
 "cells": [
  {
   "cell_type": "code",
   "execution_count": 1,
   "metadata": {
    "executionInfo": {
     "elapsed": 1776,
     "status": "ok",
     "timestamp": 1715637504099,
     "user": {
      "displayName": "김유희",
      "userId": "00390714496880607784"
     },
     "user_tz": -540
    },
    "id": "aBCNnkdfGfrW"
   },
   "outputs": [],
   "source": [
    "import numpy as np\n",
    "import pandas as pd\n",
    "np.random.seed(12345)\n",
    "import matplotlib.pyplot as plt\n",
    "plt.rc('figure', figsize=(10, 6))\n",
    "PREVIOUS_MAX_ROWS = pd.options.display.max_rows\n",
    "pd.options.display.max_columns = 20\n",
    "pd.options.display.max_rows = 20\n",
    "pd.options.display.max_colwidth = 80\n",
    "np.set_printoptions(precision=4, suppress=True)"
   ]
  },
  {
   "cell_type": "code",
   "execution_count": null,
   "metadata": {
    "id": "UDXjVkU-Hl2N"
   },
   "outputs": [],
   "source": []
  },
  {
   "cell_type": "markdown",
   "metadata": {
    "id": "9xjMlgLlGonn"
   },
   "source": [
    "# 12장 파이썬 모델링 라이브러리\n",
    "* 모델 fitting\n",
    "* 모델 scoring\n",
    "* 데이터 cleaning\n",
    "* 모델링 도구\n",
    "  * statsmodels\n",
    "    * https://www.statsmodels.org/stable/index.html\n",
    "  * scikit-learn(사이킷런)\n",
    "    * https://scikit-learn.org/stable"
   ]
  },
  {
   "cell_type": "markdown",
   "metadata": {
    "id": "nOoe49rBITKr"
   },
   "source": [
    "## 12.1 판다스와 모델 코드의 인터페이스\n",
    "* 모델 개발 과정\n",
    "\n",
    "1. 데이터 로딩: 판다스를 사용하여 데이터를 로드하고 데이터프레임으로 변환\n",
    "\n",
    "2. 데이터 전처리: 판다스를 사용하여 데이터를 전처리\n",
    "  * 피처 엔지니어링(feature engineering)\n",
    "    \n",
    "3. 모델 훈련: 판다스 데이터프레임을 모델 훈련에 사용\n",
    "\n",
    "4. 모델 평가: 판다스를 사용하여 모델 성능을 평가\n",
    "\n",
    "5. 모델 예측: 판다스 데이터프레임을 사용하여 모델 예측\n"
   ]
  },
  {
   "cell_type": "markdown",
   "metadata": {
    "id": "FAEEbLihNkXk"
   },
   "source": [
    "### feature engineering\n",
    "* 기계 학습 모델의 성능을 향상시키기 위해 데이터의 원시 특징을 변환하는 프로세스\n",
    "* 데이터를 더욱 정보량이 풍부하고 예측하기 쉽게 만드는 데 도움이 도움이 됨.\n",
    "* 피처 엔지니어링 기술\n",
    "  * 결측값 처리: 결측값은 모델 성능에 부정적인 영향을 줌.\n",
    "    * 결측값을 평균, 중앙값 또는 최빈값으로 대체\n",
    "    * 결측값을 포함하는 행을 삭제\n",
    "    * 결측값을 예측하는 모델을 훈련\n",
    "\n",
    "  * 이상치 처리: 이상치는 모델 성능에 부정적인 영향을 줌\n",
    "    * 이상치를 처리하는 방법\n",
    "      * 이상치를 제거\n",
    "      * 이상치를 변환\n",
    "      * 이상치를 예측하는 모델을 훈련\n",
    "\n",
    "  * 피처 스케일링: 피처 스케일링은 모든 피처가 동일한 범위에 있도록 보장하는 프로세스\n",
    "    * 모델이 모든 피처에 동일한 가중치를 부여하는 데 도움\n",
    "    * 피처 스케일링 기술\n",
    "      * 표준화: 피처의 평균을 0으로, 표준 편차를 1로 조정\n",
    "      * 정규화: 피처의 값이 0과 1 사이에 있도록 조정\n",
    "\n",
    "  * 피처 변환: 피처 변환은 피처의 분포를 변경하는 프로세스\n",
    "    * 이는 모델이 피처 간의 관계를 더 잘 학습하는 데 도움\n",
    "    * 피처 변환 기술에\n",
    "      * 로그 변환: 피처의 값을 로그로 변환\n",
    "      * 제곱근 변환: 피처의 값을 제곱근으로 변환\n",
    "      \n",
    "  * 피처 선택: 피처 선택은 모델에 사용할 피처를 선택하는 프로세스\n",
    "    * 이는 모델의 성능을 향상시키고 과적합을 줄이는 데 도움이 됨\n",
    "    * 피처 선택 기술\n",
    "      * 상관 관계 분석: 상관 관계가 높은 피처를 제거\n",
    "      * 통계적 유의성 검정: 통계적으로 유의미하지 않은 피처를 제거\n",
    "      * 머신 러닝 알고리즘: 피처 중요도를 평가하는 머신 러닝 알고리즘을 사용하여 피처를 선택\n",
    "\n",
    "  *  피처 생성: 피처 생성은 새로운 피처를 만드는 프로세스\n",
    "    * 이는 모델이 데이터의 패턴을 더 잘 학습하는 데 도움. * 피처 생성 기술\n",
    "      * 교차 피처: 기존 피처를 결합하여 새로운 피처를 생성\n",
    "      * 주성분 분석: 기존 피처의 주성분을 추출하여 새로운 피처를 생성\n",
    "  "
   ]
  },
  {
   "cell_type": "markdown",
   "metadata": {
    "id": "db9EeJUVc7XK"
   },
   "source": [
    "## 교차 검증(Cross-validation)\n",
    "* 교차 검증은 머신러닝 모델의 성능을 평가하는 방법 중 하나\n",
    "* 교차 검증은 데이터셋을 여러 개의 폴드(fold)로 나누고, 각 폴드를 한 번씩 평가 데이터로 사용하는 방법\n",
    "* 예를 들어, 데이터셋을 5개의 폴드로 나누고 교차 검증을 사용하여 모델의 성능을 평가하면 다음과 같다.\n",
    "  * 데이터셋을 5개의 폴드로 나눈다\n",
    "  * 첫 번째 폴드를 평가 데이터로 사용하고, 나머지 4개의 폴드를 학습 데이터로 사용하여 모델을 훈련시킨다.\n",
    "  * 훈련된 모델을 사용하여 평가 데이터에 대한 예측을 만든다.\n",
    "  * 예측과 실제 값을 비교하여 모델의 성능을 평가함\n",
    "  * 두 번째 폴드를 평가 데이터로 사용하고, 나머지 4개의 폴드를 학습 데이터로 사용하여 모델을 훈련시킴.\n",
    "  * 훈련된 모델을 사용하여 평가 데이터에 대한 예측을 만든다. 예측과 실제 값을 비교하여 모델의 성능을 평가한다.\n",
    "  * 이 과정을 모든 폴드에 대해 반복한다.\n",
    "\n",
    "* 교차 검증은 다음과 같은 장점이 있다.\n",
    "  1) 모델의 성능을 정확하게 평가할 수 있다.\n",
    "  2) 과적합을 방지할 수 있다.\n",
    "  3) 하이퍼파라미터 튜닝에 사용할 수 있다.\n",
    "\n",
    "* 교차 검증은 다음과 같은 단점이 있다.\n",
    "  * 시간이 오래 걸린다.\n",
    "  * 계산 자원이 많이 필요\n",
    "\n"
   ]
  },
  {
   "cell_type": "code",
   "execution_count": null,
   "metadata": {
    "id": "KATOYQL3e1-p"
   },
   "outputs": [],
   "source": []
  },
  {
   "cell_type": "markdown",
   "metadata": {
    "id": "2Qho82NBB2pK"
   },
   "source": [
    "* DataFrame -> Numpy Array 변환\n",
    "  * df.to_numpy()"
   ]
  },
  {
   "cell_type": "code",
   "execution_count": 2,
   "metadata": {
    "colab": {
     "base_uri": "https://localhost:8080/"
    },
    "executionInfo": {
     "elapsed": 307,
     "status": "ok",
     "timestamp": 1715637515377,
     "user": {
      "displayName": "김유희",
      "userId": "00390714496880607784"
     },
     "user_tz": -540
    },
    "id": "Sj9M6wgUGfra",
    "outputId": "4a05ec39-5076-499a-afdf-f86ba416e905"
   },
   "outputs": [
    {
     "name": "stdout",
     "output_type": "stream",
     "text": [
      "   x0    x1    y\n",
      "0   1  0.01 -1.5\n",
      "1   2 -0.01  0.0\n",
      "2   3  0.25  3.6\n",
      "3   4 -4.10  1.3\n",
      "4   5  0.00 -2.0\n",
      "\n",
      "[[ 1.    0.01 -1.5 ]\n",
      " [ 2.   -0.01  0.  ]\n",
      " [ 3.    0.25  3.6 ]\n",
      " [ 4.   -4.1   1.3 ]\n",
      " [ 5.    0.   -2.  ]]\n",
      "<class 'numpy.ndarray'>\n"
     ]
    }
   ],
   "source": [
    "# ex\n",
    "data = pd.DataFrame({\n",
    "    'x0': [1, 2, 3, 4, 5],\n",
    "    'x1': [0.01, -0.01, 0.25, -4.1, 0.],\n",
    "    'y': [-1.5, 0., 3.6, 1.3, -2.]})\n",
    "print(data)\n",
    "print()\n",
    "print(data.to_numpy())\n",
    "print(type(data.to_numpy())) #numpy 객체는 한 가지 데이터타입(모두 숫자형)으로 구성"
   ]
  },
  {
   "cell_type": "code",
   "execution_count": null,
   "metadata": {
    "id": "CKnE7DnaSk-2"
   },
   "outputs": [],
   "source": []
  },
  {
   "cell_type": "markdown",
   "metadata": {
    "id": "eqQ7q0aJCd3J"
   },
   "source": [
    "* Numpy array -> DataFrame"
   ]
  },
  {
   "cell_type": "code",
   "execution_count": 3,
   "metadata": {
    "colab": {
     "base_uri": "https://localhost:8080/",
     "height": 206
    },
    "executionInfo": {
     "elapsed": 289,
     "status": "ok",
     "timestamp": 1715637521837,
     "user": {
      "displayName": "김유희",
      "userId": "00390714496880607784"
     },
     "user_tz": -540
    },
    "id": "XzEEMehBGfrb",
    "outputId": "be7539a4-ddcf-44b1-8f22-78a62644ed21"
   },
   "outputs": [
    {
     "data": {
      "text/html": [
       "<div>\n",
       "<style scoped>\n",
       "    .dataframe tbody tr th:only-of-type {\n",
       "        vertical-align: middle;\n",
       "    }\n",
       "\n",
       "    .dataframe tbody tr th {\n",
       "        vertical-align: top;\n",
       "    }\n",
       "\n",
       "    .dataframe thead th {\n",
       "        text-align: right;\n",
       "    }\n",
       "</style>\n",
       "<table border=\"1\" class=\"dataframe\">\n",
       "  <thead>\n",
       "    <tr style=\"text-align: right;\">\n",
       "      <th></th>\n",
       "      <th>one</th>\n",
       "      <th>two</th>\n",
       "      <th>three</th>\n",
       "    </tr>\n",
       "  </thead>\n",
       "  <tbody>\n",
       "    <tr>\n",
       "      <th>0</th>\n",
       "      <td>1.0</td>\n",
       "      <td>0.01</td>\n",
       "      <td>-1.5</td>\n",
       "    </tr>\n",
       "    <tr>\n",
       "      <th>1</th>\n",
       "      <td>2.0</td>\n",
       "      <td>-0.01</td>\n",
       "      <td>0.0</td>\n",
       "    </tr>\n",
       "    <tr>\n",
       "      <th>2</th>\n",
       "      <td>3.0</td>\n",
       "      <td>0.25</td>\n",
       "      <td>3.6</td>\n",
       "    </tr>\n",
       "    <tr>\n",
       "      <th>3</th>\n",
       "      <td>4.0</td>\n",
       "      <td>-4.10</td>\n",
       "      <td>1.3</td>\n",
       "    </tr>\n",
       "    <tr>\n",
       "      <th>4</th>\n",
       "      <td>5.0</td>\n",
       "      <td>0.00</td>\n",
       "      <td>-2.0</td>\n",
       "    </tr>\n",
       "  </tbody>\n",
       "</table>\n",
       "</div>"
      ],
      "text/plain": [
       "   one   two  three\n",
       "0  1.0  0.01   -1.5\n",
       "1  2.0 -0.01    0.0\n",
       "2  3.0  0.25    3.6\n",
       "3  4.0 -4.10    1.3\n",
       "4  5.0  0.00   -2.0"
      ]
     },
     "execution_count": 3,
     "metadata": {},
     "output_type": "execute_result"
    }
   ],
   "source": [
    "# ex\n",
    "df2 = pd.DataFrame(data.to_numpy(), columns=['one', 'two', 'three'])\n",
    "df2"
   ]
  },
  {
   "cell_type": "markdown",
   "metadata": {
    "id": "C76TYgPTHJj9"
   },
   "source": [
    "* 전체 넘파이 ndarray에서 일부 배열만 선택"
   ]
  },
  {
   "cell_type": "code",
   "execution_count": 4,
   "metadata": {
    "colab": {
     "base_uri": "https://localhost:8080/"
    },
    "executionInfo": {
     "elapsed": 287,
     "status": "ok",
     "timestamp": 1715637530650,
     "user": {
      "displayName": "김유희",
      "userId": "00390714496880607784"
     },
     "user_tz": -540
    },
    "id": "q8g1oxe7uiH2",
    "outputId": "940839d8-3cad-4d76-c6ce-f1b6191c1573"
   },
   "outputs": [
    {
     "name": "stdout",
     "output_type": "stream",
     "text": [
      "[[ 1.    0.01 -1.5 ]\n",
      " [ 2.   -0.01  0.  ]\n",
      " [ 3.    0.25  3.6 ]\n",
      " [ 4.   -4.1   1.3 ]\n",
      " [ 5.    0.   -2.  ]]\n",
      "[[ 1.    0.01]\n",
      " [ 2.   -0.01]\n",
      " [ 3.    0.25]\n",
      " [ 4.   -4.1 ]\n",
      " [ 5.    0.  ]]\n",
      "<class 'numpy.ndarray'>\n"
     ]
    }
   ],
   "source": [
    "# ex\n",
    "df3 = data.copy()\n",
    "print(df3.to_numpy()) # 파이썬 객체  ndarray\n",
    "\n",
    "df_X = df3.to_numpy()[:, :2]\n",
    "print(df_X)\n",
    "print(type(df_X))"
   ]
  },
  {
   "cell_type": "code",
   "execution_count": 5,
   "metadata": {
    "colab": {
     "base_uri": "https://localhost:8080/"
    },
    "executionInfo": {
     "elapsed": 275,
     "status": "ok",
     "timestamp": 1715637534954,
     "user": {
      "displayName": "김유희",
      "userId": "00390714496880607784"
     },
     "user_tz": -540
    },
    "id": "o56c3nn5vQMv",
    "outputId": "5a4c4650-d50b-4e9f-fd81-a2e4f280c022"
   },
   "outputs": [
    {
     "name": "stdout",
     "output_type": "stream",
     "text": [
      "[-1.5  0.   3.6  1.3 -2. ]\n",
      "<class 'numpy.ndarray'>\n"
     ]
    }
   ],
   "source": [
    "df_y = df3.to_numpy()[:, -1]\n",
    "print(df_y)\n",
    "print(type(df_y))"
   ]
  },
  {
   "cell_type": "markdown",
   "metadata": {
    "id": "MXX7L3ThJPys"
   },
   "source": [
    "# 7.5 범주형 데이터(p.325)"
   ]
  },
  {
   "cell_type": "markdown",
   "metadata": {
    "id": "-ZDPyFxZOOoo"
   },
   "source": [
    "* 모델링을 위한 더미 변수 생성하기\n",
    "  * 통계나 머신러닝 도구를 사용하다 보면 범주형 데이터를 원-핫 인코딩(one-hot encoding)이라고 부르는 더미 변수(가변수, dummy variable)로 변환\n",
    "  * 범주를 열로 갖는 DataFrame을 생성하는데, 각 열에는 해당 범주의 발생 여부에 따라 0과 1의 값을 갖는다."
   ]
  },
  {
   "cell_type": "markdown",
   "metadata": {
    "id": "1QDaXnOlRnnp"
   },
   "source": [
    "* pd.Categorical() 함수\n",
    "  *  판다스 시리즈나 데이터프레임에서 범주형 데이터 타입을 생성하는 데 사용\n",
    "  "
   ]
  },
  {
   "cell_type": "code",
   "execution_count": 6,
   "metadata": {
    "colab": {
     "base_uri": "https://localhost:8080/",
     "height": 206
    },
    "executionInfo": {
     "elapsed": 299,
     "status": "ok",
     "timestamp": 1715637543315,
     "user": {
      "displayName": "김유희",
      "userId": "00390714496880607784"
     },
     "user_tz": -540
    },
    "id": "QKXxXYfbGfrc",
    "outputId": "dca3efbb-cdd7-4c3f-af76-bfe38132a4d8"
   },
   "outputs": [
    {
     "data": {
      "text/html": [
       "<div>\n",
       "<style scoped>\n",
       "    .dataframe tbody tr th:only-of-type {\n",
       "        vertical-align: middle;\n",
       "    }\n",
       "\n",
       "    .dataframe tbody tr th {\n",
       "        vertical-align: top;\n",
       "    }\n",
       "\n",
       "    .dataframe thead th {\n",
       "        text-align: right;\n",
       "    }\n",
       "</style>\n",
       "<table border=\"1\" class=\"dataframe\">\n",
       "  <thead>\n",
       "    <tr style=\"text-align: right;\">\n",
       "      <th></th>\n",
       "      <th>x0</th>\n",
       "      <th>x1</th>\n",
       "      <th>y</th>\n",
       "      <th>category</th>\n",
       "    </tr>\n",
       "  </thead>\n",
       "  <tbody>\n",
       "    <tr>\n",
       "      <th>0</th>\n",
       "      <td>1</td>\n",
       "      <td>0.01</td>\n",
       "      <td>-1.5</td>\n",
       "      <td>a</td>\n",
       "    </tr>\n",
       "    <tr>\n",
       "      <th>1</th>\n",
       "      <td>2</td>\n",
       "      <td>-0.01</td>\n",
       "      <td>0.0</td>\n",
       "      <td>b</td>\n",
       "    </tr>\n",
       "    <tr>\n",
       "      <th>2</th>\n",
       "      <td>3</td>\n",
       "      <td>0.25</td>\n",
       "      <td>3.6</td>\n",
       "      <td>a</td>\n",
       "    </tr>\n",
       "    <tr>\n",
       "      <th>3</th>\n",
       "      <td>4</td>\n",
       "      <td>-4.10</td>\n",
       "      <td>1.3</td>\n",
       "      <td>a</td>\n",
       "    </tr>\n",
       "    <tr>\n",
       "      <th>4</th>\n",
       "      <td>5</td>\n",
       "      <td>0.00</td>\n",
       "      <td>-2.0</td>\n",
       "      <td>b</td>\n",
       "    </tr>\n",
       "  </tbody>\n",
       "</table>\n",
       "</div>"
      ],
      "text/plain": [
       "   x0    x1    y category\n",
       "0   1  0.01 -1.5        a\n",
       "1   2 -0.01  0.0        b\n",
       "2   3  0.25  3.6        a\n",
       "3   4 -4.10  1.3        a\n",
       "4   5  0.00 -2.0        b"
      ]
     },
     "execution_count": 6,
     "metadata": {},
     "output_type": "execute_result"
    }
   ],
   "source": [
    "# ex\n",
    "data = pd.DataFrame({\n",
    "    'x0': [1, 2, 3, 4, 5],\n",
    "    'x1': [0.01, -0.01, 0.25, -4.1, 0.],\n",
    "    'y': [-1.5, 0., 3.6, 1.3, -2.]})\n",
    "\n",
    "data['category'] = pd.Categorical(['a', 'b', 'a', 'a', 'b'],\n",
    "                                  categories=['a', 'b'])\n",
    "data"
   ]
  },
  {
   "cell_type": "markdown",
   "metadata": {
    "id": "m_0bcUW3SqLg"
   },
   "source": [
    "* pd.get_dummies() 함수\n",
    "  * 판다스에서 범주형 데이터를 원-핫 인코딩된 피처로 변환하는 데 사용.\n",
    "  \n",
    "  * 인자\n",
    "    * prefix: 이 옵션은 원-핫 인코딩된 피처 이름에 사용할 접두사를 지정\n",
    "    * prefix_sep: 이 옵션은 접두사와 원-핫 인코딩된 피처 이름 사이에 사용할 구분자를 지정\n",
    "    * drop_first: 이 옵션은 범주형 데이터의 첫 번째 레벨을 삭제할지 여부를 지정\n",
    "    \n",
    "  * 원-핫 인코딩은 범주형 데이터를 일련의 이진 피처로 나타내는 기술\n",
    "\n",
    "* 원-핫 인코딩은 다음과 같은 다양한 작업에 유용.\n",
    "  * 머신러닝: 원-핫 인코딩된 피처를 사용하여 머신러닝 모델을 학습할 수 있다.\n",
    "  * 데이터 분석: 원-핫 인코딩된 피처를 사용하여 범주형 데이터에 대한 통계 분석을 수행할 수 있다.\n",
    "  * 데이터 시각화: 원-핫 인코딩된 피처를 사용하여 정보성이 풍부하고 시각적으로 매력적인 시각화를 만들 수 있다.\n",
    "  "
   ]
  },
  {
   "cell_type": "code",
   "execution_count": 7,
   "metadata": {
    "colab": {
     "base_uri": "https://localhost:8080/",
     "height": 333
    },
    "executionInfo": {
     "elapsed": 282,
     "status": "ok",
     "timestamp": 1715637554597,
     "user": {
      "displayName": "김유희",
      "userId": "00390714496880607784"
     },
     "user_tz": -540
    },
    "id": "qvODX9oNGfrd",
    "outputId": "b7bf9045-4131-408b-ee1f-dcdf0c732f48"
   },
   "outputs": [
    {
     "name": "stdout",
     "output_type": "stream",
     "text": [
      "   category_a  category_b\n",
      "0         1.0         0.0\n",
      "1         0.0         1.0\n",
      "2         1.0         0.0\n",
      "3         1.0         0.0\n",
      "4         0.0         1.0\n",
      "\n"
     ]
    },
    {
     "data": {
      "text/html": [
       "<div>\n",
       "<style scoped>\n",
       "    .dataframe tbody tr th:only-of-type {\n",
       "        vertical-align: middle;\n",
       "    }\n",
       "\n",
       "    .dataframe tbody tr th {\n",
       "        vertical-align: top;\n",
       "    }\n",
       "\n",
       "    .dataframe thead th {\n",
       "        text-align: right;\n",
       "    }\n",
       "</style>\n",
       "<table border=\"1\" class=\"dataframe\">\n",
       "  <thead>\n",
       "    <tr style=\"text-align: right;\">\n",
       "      <th></th>\n",
       "      <th>x0</th>\n",
       "      <th>x1</th>\n",
       "      <th>y</th>\n",
       "      <th>category_a</th>\n",
       "      <th>category_b</th>\n",
       "    </tr>\n",
       "  </thead>\n",
       "  <tbody>\n",
       "    <tr>\n",
       "      <th>0</th>\n",
       "      <td>1</td>\n",
       "      <td>0.01</td>\n",
       "      <td>-1.5</td>\n",
       "      <td>1.0</td>\n",
       "      <td>0.0</td>\n",
       "    </tr>\n",
       "    <tr>\n",
       "      <th>1</th>\n",
       "      <td>2</td>\n",
       "      <td>-0.01</td>\n",
       "      <td>0.0</td>\n",
       "      <td>0.0</td>\n",
       "      <td>1.0</td>\n",
       "    </tr>\n",
       "    <tr>\n",
       "      <th>2</th>\n",
       "      <td>3</td>\n",
       "      <td>0.25</td>\n",
       "      <td>3.6</td>\n",
       "      <td>1.0</td>\n",
       "      <td>0.0</td>\n",
       "    </tr>\n",
       "    <tr>\n",
       "      <th>3</th>\n",
       "      <td>4</td>\n",
       "      <td>-4.10</td>\n",
       "      <td>1.3</td>\n",
       "      <td>1.0</td>\n",
       "      <td>0.0</td>\n",
       "    </tr>\n",
       "    <tr>\n",
       "      <th>4</th>\n",
       "      <td>5</td>\n",
       "      <td>0.00</td>\n",
       "      <td>-2.0</td>\n",
       "      <td>0.0</td>\n",
       "      <td>1.0</td>\n",
       "    </tr>\n",
       "  </tbody>\n",
       "</table>\n",
       "</div>"
      ],
      "text/plain": [
       "   x0    x1    y  category_a  category_b\n",
       "0   1  0.01 -1.5         1.0         0.0\n",
       "1   2 -0.01  0.0         0.0         1.0\n",
       "2   3  0.25  3.6         1.0         0.0\n",
       "3   4 -4.10  1.3         1.0         0.0\n",
       "4   5  0.00 -2.0         0.0         1.0"
      ]
     },
     "execution_count": 7,
     "metadata": {},
     "output_type": "execute_result"
    }
   ],
   "source": [
    "dummies = pd.get_dummies(data.category, prefix='category',\n",
    "                         dtype=float)\n",
    "print(dummies)\n",
    "print()\n",
    "\n",
    "# data_with_dummies = data.drop('category', axis=1).join(dummies)\n",
    "data_with_dummies = pd.concat([data.drop('category', axis=1), dummies], axis =1)\n",
    "\n",
    "data_with_dummies"
   ]
  },
  {
   "cell_type": "markdown",
   "metadata": {
    "id": "VR39TonHXu1D"
   },
   "source": [
    "## 12.3 statsmodels 소개\n",
    "* https://www.statsmodels.org\n",
    "* 다양한 종류의 통계 모델 피팅, 통계 테스트 수행, 데이터 탐색, 시각화를 위한 파이썬 라이브러리\n",
    "* pip install statsmodels\n",
    "* import statsmodels.api as sm\n",
    "* import statsmodels.formula.api as smf\n",
    "* statsmodels 모델\n",
    "  * 선형 모델, 일반 선형 모델, 로버스트 선형 모델\n",
    "  * 선형 혼합 효과 모델\n",
    "  * 분산분석ANOVA 메서드\n",
    "  * 시계열 처리 및 상태공간 모델\n",
    "  "
   ]
  },
  {
   "cell_type": "code",
   "execution_count": 8,
   "metadata": {
    "colab": {
     "base_uri": "https://localhost:8080/"
    },
    "executionInfo": {
     "elapsed": 8321,
     "status": "ok",
     "timestamp": 1715637572844,
     "user": {
      "displayName": "김유희",
      "userId": "00390714496880607784"
     },
     "user_tz": -540
    },
    "id": "Q4jfHaSuXuPq",
    "outputId": "63468724-fde4-4e05-a959-331544970aa3"
   },
   "outputs": [
    {
     "name": "stdout",
     "output_type": "stream",
     "text": [
      "Requirement already satisfied: statsmodels in c:\\users\\wff\\appdata\\local\\programs\\python\\python312\\lib\\site-packages (0.14.1)\n",
      "Requirement already satisfied: numpy<2,>=1.18 in c:\\users\\wff\\appdata\\local\\programs\\python\\python312\\lib\\site-packages (from statsmodels) (1.26.4)\n",
      "Requirement already satisfied: scipy!=1.9.2,>=1.4 in c:\\users\\wff\\appdata\\local\\programs\\python\\python312\\lib\\site-packages (from statsmodels) (1.13.0)\n",
      "Requirement already satisfied: pandas!=2.1.0,>=1.0 in c:\\users\\wff\\appdata\\local\\programs\\python\\python312\\lib\\site-packages (from statsmodels) (2.2.1)\n",
      "Requirement already satisfied: patsy>=0.5.4 in c:\\users\\wff\\appdata\\local\\programs\\python\\python312\\lib\\site-packages (from statsmodels) (0.5.6)\n",
      "Requirement already satisfied: packaging>=21.3 in c:\\users\\wff\\appdata\\local\\programs\\python\\python312\\lib\\site-packages (from statsmodels) (24.0)\n",
      "Requirement already satisfied: python-dateutil>=2.8.2 in c:\\users\\wff\\appdata\\local\\programs\\python\\python312\\lib\\site-packages (from pandas!=2.1.0,>=1.0->statsmodels) (2.9.0.post0)\n",
      "Requirement already satisfied: pytz>=2020.1 in c:\\users\\wff\\appdata\\local\\programs\\python\\python312\\lib\\site-packages (from pandas!=2.1.0,>=1.0->statsmodels) (2024.1)\n",
      "Requirement already satisfied: tzdata>=2022.7 in c:\\users\\wff\\appdata\\local\\programs\\python\\python312\\lib\\site-packages (from pandas!=2.1.0,>=1.0->statsmodels) (2024.1)\n",
      "Requirement already satisfied: six in c:\\users\\wff\\appdata\\local\\programs\\python\\python312\\lib\\site-packages (from patsy>=0.5.4->statsmodels) (1.16.0)\n"
     ]
    }
   ],
   "source": [
    "# 라이브러리 설치\n",
    "!pip install statsmodels"
   ]
  },
  {
   "cell_type": "markdown",
   "metadata": {
    "id": "3nFtbdwlZabe"
   },
   "source": [
    "### 12.3.1 선형 모델 예측하기 : OLS\n",
    "* 선형 회귀 모델 말고리즘 :  최소제곱법(OLS; Ordinary Least Squares)\n",
    "* API 모듈 임포트해 사용"
   ]
  },
  {
   "cell_type": "code",
   "execution_count": null,
   "metadata": {
    "executionInfo": {
     "elapsed": 2103,
     "status": "ok",
     "timestamp": 1715637854762,
     "user": {
      "displayName": "김유희",
      "userId": "00390714496880607784"
     },
     "user_tz": -540
    },
    "id": "Zitokn-EaJPf"
   },
   "outputs": [],
   "source": [
    "import statsmodels.api as sm\n",
    "import statsmodels.formula.api as smf"
   ]
  },
  {
   "cell_type": "markdown",
   "metadata": {
    "id": "B8IUtEz_zlJP"
   },
   "source": [
    "* np.c_[a1, a2, ..., aN]\n",
    "  * 여러 개의 배열을 하나의 배열로 결합해야 하는 경우\n"
   ]
  },
  {
   "cell_type": "code",
   "execution_count": null,
   "metadata": {
    "colab": {
     "base_uri": "https://localhost:8080/"
    },
    "executionInfo": {
     "elapsed": 306,
     "status": "ok",
     "timestamp": 1715637861195,
     "user": {
      "displayName": "김유희",
      "userId": "00390714496880607784"
     },
     "user_tz": -540
    },
    "id": "sgnRMDXR0Cqt",
    "outputId": "f6c468ff-9e0d-45f4-b22b-a1f988491f96"
   },
   "outputs": [],
   "source": [
    "#ex\n",
    "a = np.array([[1, 2]])\n",
    "print(a.shape) #(1, 2)\n",
    "# a = a.reshape((2,1))\n",
    "print(a)\n",
    "print()\n",
    "\n",
    "b = np.array([[5, 6]])\n",
    "c = np.c_[a,b]\n",
    "print(c)\n"
   ]
  },
  {
   "cell_type": "markdown",
   "metadata": {
    "id": "V0F0p1N34HIl"
   },
   "source": [
    "* np.dot(A, B) 함수\n",
    "  * 두 개의 벡터를 곱하여 내적을 계산할 때\n",
    "  * 두 개의 행렬을 곱하여 행렬 곱셈을 수행할 때\n",
    "  * 행렬과 벡터를 곱하여 행렬-벡터 곱셈을 수행할 때"
   ]
  },
  {
   "cell_type": "code",
   "execution_count": null,
   "metadata": {
    "colab": {
     "base_uri": "https://localhost:8080/"
    },
    "executionInfo": {
     "elapsed": 280,
     "status": "ok",
     "timestamp": 1715637864561,
     "user": {
      "displayName": "김유희",
      "userId": "00390714496880607784"
     },
     "user_tz": -540
    },
    "id": "Lq0xeYKX4m4p",
    "outputId": "78c4b1b4-dcfe-42df-f922-207c6ace4341"
   },
   "outputs": [],
   "source": [
    "# 두 개의 벡터를 곱하여 내적을 계산\n",
    "a = np.array([1, 2])\n",
    "b = np.array([3, 4])\n",
    "c = np.dot(a, b)\n",
    "print(c)  # 출력: 11\n",
    "\n",
    "# 두 개의 행렬을 곱하여 행렬 곱셈을 수행\n",
    "a = np.array([[1, 2], [3, 4]])\n",
    "b = np.array([[5, 6], [7, 8]])\n",
    "c = np.dot(a, b)\n",
    "print(c)  # 출력: [[19 22]\n",
    "         # [43 50]]\n",
    "\n",
    "# 행렬과 벡터를 곱하여 행렬-벡터 곱셈을 수행\n",
    "a = np.array([[1, 2], [3, 4]])\n",
    "b = np.array([5, 6])\n",
    "c = np.dot(a, b)\n",
    "print(c)  # 출력: [17 39]"
   ]
  },
  {
   "cell_type": "markdown",
   "metadata": {
    "id": "QWx0p2tE2xFl"
   },
   "source": [
    "### [예제] p.541\n",
    "* 무작위 데이터로 선형 회귀 모델 생성"
   ]
  },
  {
   "cell_type": "code",
   "execution_count": null,
   "metadata": {
    "colab": {
     "base_uri": "https://localhost:8080/"
    },
    "executionInfo": {
     "elapsed": 281,
     "status": "ok",
     "timestamp": 1715637870693,
     "user": {
      "displayName": "김유희",
      "userId": "00390714496880607784"
     },
     "user_tz": -540
    },
    "id": "sEsBQNbIGfrg",
    "outputId": "53713072-97c5-4a30-a1cf-ea3e80f732c3"
   },
   "outputs": [],
   "source": [
    "# 1. Numpy data 생성\n",
    "# 시드를 설정하면 난수 생성기가 항상 같은 순서로 난수를 생성\n",
    "rng = np.random.RandomState(12345)\n",
    "\n",
    "def dnorm(mean, variance, size=1): #정규 분포에서 난수를  생성하는 helper 함수\n",
    "    if isinstance(size, int):\n",
    "        size = size,\n",
    "    return mean + np.sqrt(variance) * rng.standard_normal(*size)\n",
    "\n",
    "N = 100\n",
    "# 3개의 열과 100개의 행으로 구성된 행렬 X\n",
    "X = np.c_[dnorm(0, 0.4, size=N),\n",
    "          dnorm(0, 0.6, size=N),\n",
    "          dnorm(0, 0.2, size=N)]\n",
    "eps = dnorm(0, 0.1, size=N)\n",
    "W = [0.1, 0.3, 0.5]\n",
    "\n",
    "# 선형 회귀 모델을 생성.\n",
    "# X 행렬은 독립 변수이고, y 변수는 종속 변수이며, W 리스트는 회귀 계수\n",
    "# eps는 오차항\n",
    "y = np.dot(X,W) + eps\n",
    "\n",
    "X[:10], y[:10]"
   ]
  },
  {
   "cell_type": "code",
   "execution_count": null,
   "metadata": {
    "colab": {
     "base_uri": "https://localhost:8080/"
    },
    "executionInfo": {
     "elapsed": 290,
     "status": "ok",
     "timestamp": 1715637877198,
     "user": {
      "displayName": "김유희",
      "userId": "00390714496880607784"
     },
     "user_tz": -540
    },
    "id": "Ya1_D7P429NA",
    "outputId": "95594f01-8a2c-48db-9d93-a49ce19f5d85"
   },
   "outputs": [],
   "source": [
    "dnorm(0, 0.4, size=N).shape  # (100,)\n",
    "X.shape # (100, 3)\n",
    "print(y.shape) #(100,)"
   ]
  },
  {
   "cell_type": "code",
   "execution_count": null,
   "metadata": {
    "colab": {
     "base_uri": "https://localhost:8080/"
    },
    "executionInfo": {
     "elapsed": 270,
     "status": "ok",
     "timestamp": 1715637881865,
     "user": {
      "displayName": "김유희",
      "userId": "00390714496880607784"
     },
     "user_tz": -540
    },
    "id": "mu-SUptPGfrg",
    "outputId": "5c7337a8-db60-423e-9d5d-6f74b095b209"
   },
   "outputs": [],
   "source": [
    "# case1) 선형 모델 sm을 X데이터에 Intercept와 함께 피팅하기\n",
    "dfX = sm.add_constant(X)  # 기존 행렬 X에 Intercept 열을 더하기\n",
    "dfX[:5]\n"
   ]
  },
  {
   "cell_type": "code",
   "execution_count": null,
   "metadata": {
    "executionInfo": {
     "elapsed": 299,
     "status": "ok",
     "timestamp": 1715637886893,
     "user": {
      "displayName": "김유희",
      "userId": "00390714496880607784"
     },
     "user_tz": -540
    },
    "id": "wdhJRVWiGfrg"
   },
   "outputs": [],
   "source": [
    "# sm.OLS클래스는 최소제곱법 선형회귀에 피팅하기\n",
    "# model = sm.OLS(y, X)\n",
    "model_1 = sm.OLS(y, dfX)\n"
   ]
  },
  {
   "cell_type": "code",
   "execution_count": null,
   "metadata": {
    "executionInfo": {
     "elapsed": 4,
     "status": "ok",
     "timestamp": 1715637889651,
     "user": {
      "displayName": "김유희",
      "userId": "00390714496880607784"
     },
     "user_tz": -540
    },
    "id": "_6kKfoFhGfrg"
   },
   "outputs": [],
   "source": [
    "# fit 메서드로 모형 추정. 추정 결과는 별도의 RegressionResults 클래스 객체로 출력된다\n",
    "results_1 = model_1.fit()"
   ]
  },
  {
   "cell_type": "code",
   "execution_count": null,
   "metadata": {
    "colab": {
     "base_uri": "https://localhost:8080/"
    },
    "executionInfo": {
     "elapsed": 4,
     "status": "ok",
     "timestamp": 1715637891369,
     "user": {
      "displayName": "김유희",
      "userId": "00390714496880607784"
     },
     "user_tz": -540
    },
    "id": "J9rOMcfD_sY3",
    "outputId": "439e5d2c-974d-48d2-dd6e-f1a605d78530"
   },
   "outputs": [],
   "source": [
    "results_1.params"
   ]
  },
  {
   "cell_type": "code",
   "execution_count": null,
   "metadata": {
    "colab": {
     "base_uri": "https://localhost:8080/"
    },
    "executionInfo": {
     "elapsed": 399,
     "status": "ok",
     "timestamp": 1715637895075,
     "user": {
      "displayName": "김유희",
      "userId": "00390714496880607784"
     },
     "user_tz": -540
    },
    "id": "gsynmFonCyqB",
    "outputId": "36f716dd-005e-4763-d6dc-c05978457b4c"
   },
   "outputs": [],
   "source": [
    "results_1.resid"
   ]
  },
  {
   "cell_type": "code",
   "execution_count": null,
   "metadata": {
    "colab": {
     "base_uri": "https://localhost:8080/"
    },
    "executionInfo": {
     "elapsed": 270,
     "status": "ok",
     "timestamp": 1715637899478,
     "user": {
      "displayName": "김유희",
      "userId": "00390714496880607784"
     },
     "user_tz": -540
    },
    "id": "PyReiOyxGfrg",
    "outputId": "e6a47bf9-94e7-4613-accc-e896ef1e2b1e"
   },
   "outputs": [],
   "source": [
    "# RegressionResults 클래스 객체는 결과 리포트용 summary 메서드와 예측을 위한 prediction 메서드를 제공한다.\n",
    "print(results_1.summary())"
   ]
  },
  {
   "cell_type": "code",
   "execution_count": null,
   "metadata": {
    "colab": {
     "base_uri": "https://localhost:8080/",
     "height": 206
    },
    "executionInfo": {
     "elapsed": 353,
     "status": "ok",
     "timestamp": 1715637903965,
     "user": {
      "displayName": "김유희",
      "userId": "00390714496880607784"
     },
     "user_tz": -540
    },
    "id": "i872eNS7-5Ig",
    "outputId": "62dd944f-addd-40a1-bda2-900fa5545478"
   },
   "outputs": [],
   "source": [
    "# case 2) # 2.데이터프레임 생성\n",
    "data = pd.DataFrame(X, columns=['col0', 'col1', 'col2'])\n",
    "data['y'] = y\n",
    "data.head()"
   ]
  },
  {
   "cell_type": "code",
   "execution_count": null,
   "metadata": {
    "executionInfo": {
     "elapsed": 280,
     "status": "ok",
     "timestamp": 1715637908454,
     "user": {
      "displayName": "김유희",
      "userId": "00390714496880607784"
     },
     "user_tz": -540
    },
    "id": "0tRXsgCw_LLM"
   },
   "outputs": [],
   "source": [
    "results_2 = smf.ols('y ~ col0 + col1 + col2', data = data).fit()"
   ]
  },
  {
   "cell_type": "code",
   "execution_count": null,
   "metadata": {
    "colab": {
     "base_uri": "https://localhost:8080/"
    },
    "executionInfo": {
     "elapsed": 270,
     "status": "ok",
     "timestamp": 1715637912480,
     "user": {
      "displayName": "김유희",
      "userId": "00390714496880607784"
     },
     "user_tz": -540
    },
    "id": "KPRhwRaj_bf3",
    "outputId": "84469bf8-9fff-46ae-f730-fa6942624974"
   },
   "outputs": [],
   "source": [
    "results_2.params"
   ]
  },
  {
   "cell_type": "code",
   "execution_count": null,
   "metadata": {
    "colab": {
     "base_uri": "https://localhost:8080/"
    },
    "executionInfo": {
     "elapsed": 435,
     "status": "ok",
     "timestamp": 1715637915525,
     "user": {
      "displayName": "김유희",
      "userId": "00390714496880607784"
     },
     "user_tz": -540
    },
    "id": "htaRf43rC_Y6",
    "outputId": "680d0a6a-e484-407e-d663-690bee262dcc"
   },
   "outputs": [],
   "source": [
    "results_2.resid"
   ]
  },
  {
   "cell_type": "code",
   "execution_count": null,
   "metadata": {
    "colab": {
     "base_uri": "https://localhost:8080/",
     "height": 486
    },
    "executionInfo": {
     "elapsed": 4,
     "status": "ok",
     "timestamp": 1715637918643,
     "user": {
      "displayName": "김유희",
      "userId": "00390714496880607784"
     },
     "user_tz": -540
    },
    "id": "zbgs5wl6_4X8",
    "outputId": "8572b028-8463-4721-99c7-ec6ecd4a8fab"
   },
   "outputs": [],
   "source": [
    "results_2.summary()"
   ]
  },
  {
   "cell_type": "code",
   "execution_count": null,
   "metadata": {
    "colab": {
     "base_uri": "https://localhost:8080/"
    },
    "executionInfo": {
     "elapsed": 270,
     "status": "ok",
     "timestamp": 1715637923107,
     "user": {
      "displayName": "김유희",
      "userId": "00390714496880607784"
     },
     "user_tz": -540
    },
    "id": "somz9yrx75AT",
    "outputId": "b659f860-68cf-4436-fc23-2260e19c4ab3"
   },
   "outputs": [],
   "source": [
    "# RegressionResults 클래스 객체의 predict 메서드를 사용하면 새로운 xnew 값에 대응하는 y 값을 예측할 수 있다.\n",
    "\n",
    "# Generate random data\n",
    "results_1.predict([[0,  -0.1295, -1.2128,  0.5042]] )\n",
    "\n"
   ]
  },
  {
   "cell_type": "code",
   "execution_count": null,
   "metadata": {
    "id": "QxptULJ2IZJO"
   },
   "outputs": [],
   "source": [
    "(array([[-0.1295, -1.2128,  0.5042],\n",
    "        [ 0.3029, -0.4357, -0.2542],\n",
    "        [-0.3285, -0.0253,  0.1384],\n",
    "        [-0.3515, -0.7196, -0.2582],\n",
    "        [ 1.2433, -0.3738, -0.5226],\n",
    "        [ 0.8813, -0.0281, -0.369 ],\n",
    "        [ 0.0588,  0.8485, -1.1826],\n",
    "        [ 0.1782,  0.7598, -0.0684],\n",
    "        [ 0.4864, -0.4566, -0.3363],\n",
    "        [ 0.7883,  1.2252, -0.0593]]),\n",
    " array([ 0.4279, -0.6735, -0.0909, -0.4895, -0.1289, -0.045 ,  0.0876,\n",
    "        -0.5046, -0.5458,  0.2653]))"
   ]
  },
  {
   "cell_type": "code",
   "execution_count": null,
   "metadata": {
    "colab": {
     "base_uri": "https://localhost:8080/",
     "height": 89
    },
    "executionInfo": {
     "elapsed": 342,
     "status": "ok",
     "timestamp": 1715637926976,
     "user": {
      "displayName": "김유희",
      "userId": "00390714496880607784"
     },
     "user_tz": -540
    },
    "id": "ivyS3py6EsXj",
    "outputId": "d78a5387-748e-4d7f-f26f-fe752f0e3403"
   },
   "outputs": [],
   "source": [
    "#results_2.predict(data[:5])\n",
    "new_data = pd.DataFrame([[-0.1295, -1.2128,  0.5042]], columns=['col0','col1','col2'])\n",
    "new_data\n"
   ]
  },
  {
   "cell_type": "code",
   "execution_count": null,
   "metadata": {
    "colab": {
     "base_uri": "https://localhost:8080/"
    },
    "executionInfo": {
     "elapsed": 303,
     "status": "ok",
     "timestamp": 1715637930753,
     "user": {
      "displayName": "김유희",
      "userId": "00390714496880607784"
     },
     "user_tz": -540
    },
    "id": "6SsWT8yvG8US",
    "outputId": "8ea06253-69c8-4e58-9eb8-db316f4ac0fa"
   },
   "outputs": [],
   "source": [
    "results_2.predict(new_data)"
   ]
  },
  {
   "cell_type": "code",
   "execution_count": null,
   "metadata": {
    "colab": {
     "base_uri": "https://localhost:8080/",
     "height": 782
    },
    "executionInfo": {
     "elapsed": 1427,
     "status": "ok",
     "timestamp": 1715637948344,
     "user": {
      "displayName": "김유희",
      "userId": "00390714496880607784"
     },
     "user_tz": -540
    },
    "id": "sSMUQPXYMxHk",
    "outputId": "de41358d-cfd4-4ded-d9e8-7c790401a70d"
   },
   "outputs": [],
   "source": [
    "# 잔차 벡터\n",
    "print(results_1.resid)\n",
    "import matplotlib.pyplot as plt\n",
    "\n",
    "# Create a plot of the residuals\n",
    "plt.scatter(range(len(results_1.resid)), results_1.resid)\n",
    "\n",
    "plt.title(\"Residuals\")\n",
    "plt.xlabel(\"Data point\")\n",
    "plt.ylabel(\"Residual\")\n",
    "plt.show()"
   ]
  },
  {
   "cell_type": "code",
   "execution_count": null,
   "metadata": {
    "colab": {
     "base_uri": "https://localhost:8080/",
     "height": 563
    },
    "executionInfo": {
     "elapsed": 759,
     "status": "ok",
     "timestamp": 1715637988385,
     "user": {
      "displayName": "김유희",
      "userId": "00390714496880607784"
     },
     "user_tz": -540
    },
    "id": "xIr244z7KTnc",
    "outputId": "638783e5-a5e7-4a81-b375-3de2bd15ec22"
   },
   "outputs": [],
   "source": [
    "import matplotlib.pyplot as plt\n",
    "\n",
    "# Create the normal probability plot\n",
    "plt.figure(figsize=(8, 6))\n",
    "plt.title('Normal Probability Plot of Residuals')\n",
    "\n",
    "# Plot the residuals\n",
    "plt.plot(sorted(results_1.resid), range(1, len(results_1.resid) + 1))\n",
    "\n",
    "# Add the reference line\n",
    "plt.plot([min(results_1.resid), max(results_1.resid)], [min(results_1.resid), max(results_1.resid)], color='red')\n",
    "\n",
    "# Show the plot\n",
    "plt.show()\n",
    "\n",
    "# Check for normality\n",
    "if all(abs(point - line) < 2 * np.std(results_1.resid) for point, line in zip(sorted(results_1.resid),\\\n",
    "                                                          np.linspace(min(results_1.resid), max(results_1.resid), len(results_1.resid)))):\n",
    "    print(\"The residuals appear to be normally distributed.\")\n",
    "else:\n",
    "    print(\"The residuals do not appear to be normally distributed.\")"
   ]
  },
  {
   "cell_type": "code",
   "execution_count": null,
   "metadata": {
    "colab": {
     "base_uri": "https://localhost:8080/",
     "height": 782
    },
    "executionInfo": {
     "elapsed": 946,
     "status": "ok",
     "timestamp": 1715637999405,
     "user": {
      "displayName": "김유희",
      "userId": "00390714496880607784"
     },
     "user_tz": -540
    },
    "id": "HLY_IcCwJvrY",
    "outputId": "aeed8de4-3137-4627-df7d-cf371263cce6"
   },
   "outputs": [],
   "source": [
    "# 잔차 벡터\n",
    "print(results_2.resid)\n",
    "import matplotlib.pyplot as plt\n",
    "\n",
    "# Create a plot of the residuals\n",
    "plt.scatter(range(len(results_2.resid)), results_2.resid)\n",
    "plt.title(\"Residuals\")\n",
    "plt.xlabel(\"Data point\")\n",
    "plt.ylabel(\"Residual\")\n",
    "plt.show()"
   ]
  },
  {
   "cell_type": "markdown",
   "metadata": {
    "id": "eLKySKhL0Djp"
   },
   "source": [
    "### [문제] 간단한 선형회귀분석 문제\n",
    "* scikit-learn 패키지을 사용하여 가상의 회귀분석 문제 이해하기"
   ]
  },
  {
   "cell_type": "markdown",
   "metadata": {
    "id": "o24S-Rpb7bIg"
   },
   "source": [
    "![image.png](data:image/png;base64,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)"
   ]
  },
  {
   "cell_type": "code",
   "execution_count": null,
   "metadata": {
    "colab": {
     "base_uri": "https://localhost:8080/"
    },
    "executionInfo": {
     "elapsed": 271,
     "status": "ok",
     "timestamp": 1715638234175,
     "user": {
      "displayName": "김유희",
      "userId": "00390714496880607784"
     },
     "user_tz": -540
    },
    "id": "dhAwVvsy7dCq",
    "outputId": "a09f3686-a79f-45c7-c7c0-385239c4c5ee"
   },
   "outputs": [],
   "source": [
    "from sklearn.datasets import make_regression\n",
    "import numpy as np\n",
    "import matplotlib.pyplot as plt\n",
    "\n",
    "X, y, w = make_regression(\n",
    "    n_samples=100, n_features=1, bias=100, noise=10, coef=True, random_state=0\n",
    ")\n",
    "\n",
    "X[:10]\n",
    "y[:10]\n",
    "w"
   ]
  },
  {
   "cell_type": "code",
   "execution_count": null,
   "metadata": {
    "colab": {
     "base_uri": "https://localhost:8080/",
     "height": 564
    },
    "executionInfo": {
     "elapsed": 464,
     "status": "ok",
     "timestamp": 1715638277374,
     "user": {
      "displayName": "김유희",
      "userId": "00390714496880607784"
     },
     "user_tz": -540
    },
    "id": "pRAwIq9eAQ3d",
    "outputId": "ccd73f0e-5a90-4fbe-cac6-fc6d1a372e1c"
   },
   "outputs": [],
   "source": [
    "# 시각화\n",
    "xx = np.linspace(-3, 3, 100)\n",
    "y0 = w * xx + 100\n",
    "plt.plot(xx, y0, \"r-\")\n",
    "plt.scatter(X, y, s=100)\n",
    "plt.xlabel(\"x\")\n",
    "plt.ylabel(\"y\")\n",
    "plt.title(\"regression line\")\n",
    "plt.show()"
   ]
  },
  {
   "cell_type": "code",
   "execution_count": null,
   "metadata": {
    "id": "mUZI0mDGDRxm"
   },
   "outputs": [],
   "source": []
  }
 ],
 "metadata": {
  "colab": {
   "provenance": []
  },
  "kernelspec": {
   "display_name": "Python 3 (ipykernel)",
   "language": "python",
   "name": "python3"
  },
  "language_info": {
   "codemirror_mode": {
    "name": "ipython",
    "version": 3
   },
   "file_extension": ".py",
   "mimetype": "text/x-python",
   "name": "python",
   "nbconvert_exporter": "python",
   "pygments_lexer": "ipython3",
   "version": "3.12.2"
  }
 },
 "nbformat": 4,
 "nbformat_minor": 4
}
